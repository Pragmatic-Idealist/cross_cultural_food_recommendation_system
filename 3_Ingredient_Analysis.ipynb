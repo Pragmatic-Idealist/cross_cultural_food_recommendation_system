{
 "cells": [
  {
   "cell_type": "code",
   "execution_count": 50,
   "metadata": {
    "ExecuteTime": {
     "end_time": "2019-09-12T03:44:13.257795Z",
     "start_time": "2019-09-12T03:44:13.253257Z"
    }
   },
   "outputs": [],
   "source": [
    "#basic libraries\n",
    "import pandas as pd\n",
    "import numpy as np\n",
    "import re, pprint\n",
    "\n",
    "#Dimension Reduction Libraries\n",
    "from sklearn.decomposition import LatentDirichletAllocation, TruncatedSVD, NMF, PCA,KernelPCA\n",
    "from sklearn.feature_extraction.text import CountVectorizer, TfidfVectorizer\n",
    "from sklearn.cluster import KMeans\n",
    "\n",
    "#Visualizations\n",
    "import pyLDAvis\n",
    "import pyLDAvis.sklearn\n",
    "import seaborn as sns\n",
    "import matplotlib.pyplot as plt\n",
    "\n",
    "#NLP Libraries\n",
    "import nltk\n",
    "from nltk.corpus import stopwords\n",
    "from nltk.stem import PorterStemmer \n",
    "from nltk.tokenize import word_tokenize\n",
    "import spacy\n",
    "\n",
    "\n"
   ]
  },
  {
   "cell_type": "code",
   "execution_count": 51,
   "metadata": {
    "ExecuteTime": {
     "end_time": "2019-09-12T03:44:13.483228Z",
     "start_time": "2019-09-12T03:44:13.445910Z"
    }
   },
   "outputs": [],
   "source": [
    "#read in document\n",
    "\n",
    "path='name_cuisine_nlptopicmodeling.csv'\n",
    "\n",
    "df = pd.read_csv(path, index_col = 0)"
   ]
  },
  {
   "cell_type": "code",
   "execution_count": 52,
   "metadata": {
    "ExecuteTime": {
     "end_time": "2019-09-12T03:44:13.627354Z",
     "start_time": "2019-09-12T03:44:13.620289Z"
    }
   },
   "outputs": [
    {
     "data": {
      "text/html": [
       "<div>\n",
       "<style scoped>\n",
       "    .dataframe tbody tr th:only-of-type {\n",
       "        vertical-align: middle;\n",
       "    }\n",
       "\n",
       "    .dataframe tbody tr th {\n",
       "        vertical-align: top;\n",
       "    }\n",
       "\n",
       "    .dataframe thead th {\n",
       "        text-align: right;\n",
       "    }\n",
       "</style>\n",
       "<table border=\"1\" class=\"dataframe\">\n",
       "  <thead>\n",
       "    <tr style=\"text-align: right;\">\n",
       "      <th></th>\n",
       "      <th>recipeName</th>\n",
       "      <th>cuisine</th>\n",
       "      <th>nlp_ingredients</th>\n",
       "    </tr>\n",
       "  </thead>\n",
       "  <tbody>\n",
       "    <tr>\n",
       "      <th>0</th>\n",
       "      <td>Easy Seafood Paella</td>\n",
       "      <td>spanish</td>\n",
       "      <td>lobster_tail water olive_oil onion spanish_ric...</td>\n",
       "    </tr>\n",
       "    <tr>\n",
       "      <th>1</th>\n",
       "      <td>Spanish-style Garlic Shrimp</td>\n",
       "      <td>spanish</td>\n",
       "      <td>i_cant_believe_its_not_butter_spread shrimp sa...</td>\n",
       "    </tr>\n",
       "    <tr>\n",
       "      <th>2</th>\n",
       "      <td>Classic Paella</td>\n",
       "      <td>spanish</td>\n",
       "      <td>olive_oil chicken_breast chicken_stock saffron...</td>\n",
       "    </tr>\n",
       "    <tr>\n",
       "      <th>3</th>\n",
       "      <td>One Pot Spanish Chicken and Rice</td>\n",
       "      <td>spanish</td>\n",
       "      <td>olive_oil chicken_thighs salt pepper onion gar...</td>\n",
       "    </tr>\n",
       "    <tr>\n",
       "      <th>4</th>\n",
       "      <td>Portuguese Fish Stew</td>\n",
       "      <td>spanish</td>\n",
       "      <td>plum_tomatoe savoy_cabbage olive_oil chizo_sau...</td>\n",
       "    </tr>\n",
       "  </tbody>\n",
       "</table>\n",
       "</div>"
      ],
      "text/plain": [
       "                         recipeName  cuisine  \\\n",
       "0               Easy Seafood Paella  spanish   \n",
       "1       Spanish-style Garlic Shrimp  spanish   \n",
       "2                    Classic Paella  spanish   \n",
       "3  One Pot Spanish Chicken and Rice  spanish   \n",
       "4              Portuguese Fish Stew  spanish   \n",
       "\n",
       "                                     nlp_ingredients  \n",
       "0  lobster_tail water olive_oil onion spanish_ric...  \n",
       "1  i_cant_believe_its_not_butter_spread shrimp sa...  \n",
       "2  olive_oil chicken_breast chicken_stock saffron...  \n",
       "3  olive_oil chicken_thighs salt pepper onion gar...  \n",
       "4  plum_tomatoe savoy_cabbage olive_oil chizo_sau...  "
      ]
     },
     "execution_count": 52,
     "metadata": {},
     "output_type": "execute_result"
    }
   ],
   "source": [
    "df.head()"
   ]
  },
  {
   "cell_type": "code",
   "execution_count": 53,
   "metadata": {
    "ExecuteTime": {
     "end_time": "2019-09-12T03:44:13.782092Z",
     "start_time": "2019-09-12T03:44:13.777038Z"
    }
   },
   "outputs": [
    {
     "data": {
      "text/plain": [
       "german        778\n",
       "greek         740\n",
       "spanish       736\n",
       "moroccan      731\n",
       "chinese       727\n",
       "french        695\n",
       "american      663\n",
       "indian        645\n",
       "italian       644\n",
       "irish         618\n",
       "mexican       616\n",
       "english       610\n",
       "cuban         551\n",
       "japanese      548\n",
       "thai          538\n",
       "hawaiian      531\n",
       "hungarian     508\n",
       "swedish       461\n",
       "portuguese    193\n",
       "Name: cuisine, dtype: int64"
      ]
     },
     "execution_count": 53,
     "metadata": {},
     "output_type": "execute_result"
    }
   ],
   "source": [
    "df.cuisine.value_counts()"
   ]
  },
  {
   "cell_type": "markdown",
   "metadata": {},
   "source": [
    "# A. Preprocessing and Vectorizing Text"
   ]
  },
  {
   "cell_type": "code",
   "execution_count": 54,
   "metadata": {
    "ExecuteTime": {
     "end_time": "2019-09-12T03:44:14.182179Z",
     "start_time": "2019-09-12T03:44:14.178712Z"
    }
   },
   "outputs": [],
   "source": [
    "stopwords = nltk.corpus.stopwords.words('english')"
   ]
  },
  {
   "cell_type": "code",
   "execution_count": 55,
   "metadata": {
    "ExecuteTime": {
     "end_time": "2019-09-12T03:44:14.692505Z",
     "start_time": "2019-09-12T03:44:14.296253Z"
    }
   },
   "outputs": [],
   "source": [
    "vectorizer = TfidfVectorizer(analyzer='word',       \n",
    "                             min_df= 50, max_df = 0.5,                        # minimum read occurences of a word \n",
    "                             stop_words= stopwords,             # remove stop words, using a custom list \n",
    "                             lowercase=True,                   # convert all words to lowercase\n",
    "                             token_pattern='[a-zA-Z0-9]{3,}',  # num chars > 3\n",
    "                             #max_features=500,             # max number of unique words\n",
    "                            ngram_range = (1,2))\n",
    "\n",
    "data_vectorized = vectorizer.fit_transform(df['nlp_ingredients'])"
   ]
  },
  {
   "cell_type": "code",
   "execution_count": 56,
   "metadata": {
    "ExecuteTime": {
     "end_time": "2019-09-12T03:44:14.796839Z",
     "start_time": "2019-09-12T03:44:14.781663Z"
    }
   },
   "outputs": [
    {
     "data": {
      "text/html": [
       "<div>\n",
       "<style scoped>\n",
       "    .dataframe tbody tr th:only-of-type {\n",
       "        vertical-align: middle;\n",
       "    }\n",
       "\n",
       "    .dataframe tbody tr th {\n",
       "        vertical-align: top;\n",
       "    }\n",
       "\n",
       "    .dataframe thead th {\n",
       "        text-align: right;\n",
       "    }\n",
       "</style>\n",
       "<table border=\"1\" class=\"dataframe\">\n",
       "  <thead>\n",
       "    <tr style=\"text-align: right;\">\n",
       "      <th></th>\n",
       "      <th>index</th>\n",
       "      <th>Weight</th>\n",
       "    </tr>\n",
       "  </thead>\n",
       "  <tbody>\n",
       "    <tr>\n",
       "      <th>0</th>\n",
       "      <td>ground</td>\n",
       "      <td>1.873355</td>\n",
       "    </tr>\n",
       "    <tr>\n",
       "      <th>1</th>\n",
       "      <td>olive</td>\n",
       "      <td>1.961198</td>\n",
       "    </tr>\n",
       "    <tr>\n",
       "      <th>2</th>\n",
       "      <td>olive oil</td>\n",
       "      <td>1.989945</td>\n",
       "    </tr>\n",
       "    <tr>\n",
       "      <th>3</th>\n",
       "      <td>chicken</td>\n",
       "      <td>2.059755</td>\n",
       "    </tr>\n",
       "    <tr>\n",
       "      <th>4</th>\n",
       "      <td>sauce</td>\n",
       "      <td>2.153041</td>\n",
       "    </tr>\n",
       "    <tr>\n",
       "      <th>5</th>\n",
       "      <td>salt pepper</td>\n",
       "      <td>2.458736</td>\n",
       "    </tr>\n",
       "    <tr>\n",
       "      <th>6</th>\n",
       "      <td>flour</td>\n",
       "      <td>2.526611</td>\n",
       "    </tr>\n",
       "    <tr>\n",
       "      <th>7</th>\n",
       "      <td>water</td>\n",
       "      <td>2.564014</td>\n",
       "    </tr>\n",
       "    <tr>\n",
       "      <th>8</th>\n",
       "      <td>beef</td>\n",
       "      <td>2.587485</td>\n",
       "    </tr>\n",
       "    <tr>\n",
       "      <th>9</th>\n",
       "      <td>butter</td>\n",
       "      <td>2.590033</td>\n",
       "    </tr>\n",
       "    <tr>\n",
       "      <th>10</th>\n",
       "      <td>ground pepper</td>\n",
       "      <td>2.597287</td>\n",
       "    </tr>\n",
       "    <tr>\n",
       "      <th>11</th>\n",
       "      <td>cheese</td>\n",
       "      <td>2.631706</td>\n",
       "    </tr>\n",
       "    <tr>\n",
       "      <th>12</th>\n",
       "      <td>egg</td>\n",
       "      <td>2.655479</td>\n",
       "    </tr>\n",
       "    <tr>\n",
       "      <th>13</th>\n",
       "      <td>green</td>\n",
       "      <td>2.663226</td>\n",
       "    </tr>\n",
       "    <tr>\n",
       "      <th>14</th>\n",
       "      <td>parsley</td>\n",
       "      <td>2.668271</td>\n",
       "    </tr>\n",
       "    <tr>\n",
       "      <th>15</th>\n",
       "      <td>tomato</td>\n",
       "      <td>2.670111</td>\n",
       "    </tr>\n",
       "    <tr>\n",
       "      <th>16</th>\n",
       "      <td>sugar</td>\n",
       "      <td>2.675191</td>\n",
       "    </tr>\n",
       "    <tr>\n",
       "      <th>17</th>\n",
       "      <td>juice</td>\n",
       "      <td>2.749655</td>\n",
       "    </tr>\n",
       "    <tr>\n",
       "      <th>18</th>\n",
       "      <td>ginger</td>\n",
       "      <td>2.753153</td>\n",
       "    </tr>\n",
       "    <tr>\n",
       "      <th>19</th>\n",
       "      <td>lemon</td>\n",
       "      <td>2.778496</td>\n",
       "    </tr>\n",
       "    <tr>\n",
       "      <th>20</th>\n",
       "      <td>broth</td>\n",
       "      <td>2.785709</td>\n",
       "    </tr>\n",
       "    <tr>\n",
       "      <th>21</th>\n",
       "      <td>wine</td>\n",
       "      <td>2.796627</td>\n",
       "    </tr>\n",
       "    <tr>\n",
       "      <th>22</th>\n",
       "      <td>paprika</td>\n",
       "      <td>2.804498</td>\n",
       "    </tr>\n",
       "    <tr>\n",
       "      <th>23</th>\n",
       "      <td>cumin</td>\n",
       "      <td>2.822038</td>\n",
       "    </tr>\n",
       "    <tr>\n",
       "      <th>24</th>\n",
       "      <td>rice</td>\n",
       "      <td>2.842077</td>\n",
       "    </tr>\n",
       "    <tr>\n",
       "      <th>25</th>\n",
       "      <td>soy</td>\n",
       "      <td>2.864202</td>\n",
       "    </tr>\n",
       "    <tr>\n",
       "      <th>26</th>\n",
       "      <td>soy sauce</td>\n",
       "      <td>2.873190</td>\n",
       "    </tr>\n",
       "    <tr>\n",
       "      <th>27</th>\n",
       "      <td>onion garlic</td>\n",
       "      <td>2.952434</td>\n",
       "    </tr>\n",
       "    <tr>\n",
       "      <th>28</th>\n",
       "      <td>vegetable</td>\n",
       "      <td>2.990409</td>\n",
       "    </tr>\n",
       "    <tr>\n",
       "      <th>29</th>\n",
       "      <td>powder</td>\n",
       "      <td>3.003824</td>\n",
       "    </tr>\n",
       "    <tr>\n",
       "      <th>...</th>\n",
       "      <td>...</td>\n",
       "      <td>...</td>\n",
       "    </tr>\n",
       "    <tr>\n",
       "      <th>972</th>\n",
       "      <td>filet</td>\n",
       "      <td>6.382763</td>\n",
       "    </tr>\n",
       "    <tr>\n",
       "      <th>973</th>\n",
       "      <td>cumin turmeric</td>\n",
       "      <td>6.382763</td>\n",
       "    </tr>\n",
       "    <tr>\n",
       "      <th>974</th>\n",
       "      <td>ucedfat</td>\n",
       "      <td>6.401811</td>\n",
       "    </tr>\n",
       "    <tr>\n",
       "      <th>975</th>\n",
       "      <td>salt tomato</td>\n",
       "      <td>6.401811</td>\n",
       "    </tr>\n",
       "    <tr>\n",
       "      <th>976</th>\n",
       "      <td>chunk</td>\n",
       "      <td>6.401811</td>\n",
       "    </tr>\n",
       "    <tr>\n",
       "      <th>977</th>\n",
       "      <td>cheese olive</td>\n",
       "      <td>6.401811</td>\n",
       "    </tr>\n",
       "    <tr>\n",
       "      <th>978</th>\n",
       "      <td>egg water</td>\n",
       "      <td>6.401811</td>\n",
       "    </tr>\n",
       "    <tr>\n",
       "      <th>979</th>\n",
       "      <td>liquid</td>\n",
       "      <td>6.401811</td>\n",
       "    </tr>\n",
       "    <tr>\n",
       "      <th>980</th>\n",
       "      <td>style</td>\n",
       "      <td>6.401811</td>\n",
       "    </tr>\n",
       "    <tr>\n",
       "      <th>981</th>\n",
       "      <td>baby carrot</td>\n",
       "      <td>6.401811</td>\n",
       "    </tr>\n",
       "    <tr>\n",
       "      <th>982</th>\n",
       "      <td>pineapple chunk</td>\n",
       "      <td>6.401811</td>\n",
       "    </tr>\n",
       "    <tr>\n",
       "      <th>983</th>\n",
       "      <td>paste beef</td>\n",
       "      <td>6.401811</td>\n",
       "    </tr>\n",
       "    <tr>\n",
       "      <th>984</th>\n",
       "      <td>paprika chicken</td>\n",
       "      <td>6.401811</td>\n",
       "    </tr>\n",
       "    <tr>\n",
       "      <th>985</th>\n",
       "      <td>oil bell</td>\n",
       "      <td>6.401811</td>\n",
       "    </tr>\n",
       "    <tr>\n",
       "      <th>986</th>\n",
       "      <td>slive</td>\n",
       "      <td>6.401811</td>\n",
       "    </tr>\n",
       "    <tr>\n",
       "      <th>987</th>\n",
       "      <td>wide</td>\n",
       "      <td>6.421229</td>\n",
       "    </tr>\n",
       "    <tr>\n",
       "      <th>988</th>\n",
       "      <td>season</td>\n",
       "      <td>6.421229</td>\n",
       "    </tr>\n",
       "    <tr>\n",
       "      <th>989</th>\n",
       "      <td>oil chizo</td>\n",
       "      <td>6.421229</td>\n",
       "    </tr>\n",
       "    <tr>\n",
       "      <th>990</th>\n",
       "      <td>ginger green</td>\n",
       "      <td>6.421229</td>\n",
       "    </tr>\n",
       "    <tr>\n",
       "      <th>991</th>\n",
       "      <td>loin chops</td>\n",
       "      <td>6.421229</td>\n",
       "    </tr>\n",
       "    <tr>\n",
       "      <th>992</th>\n",
       "      <td>chizo onion</td>\n",
       "      <td>6.421229</td>\n",
       "    </tr>\n",
       "    <tr>\n",
       "      <th>993</th>\n",
       "      <td>grain mustard</td>\n",
       "      <td>6.421229</td>\n",
       "    </tr>\n",
       "    <tr>\n",
       "      <th>994</th>\n",
       "      <td>sugar pepper</td>\n",
       "      <td>6.421229</td>\n",
       "    </tr>\n",
       "    <tr>\n",
       "      <th>995</th>\n",
       "      <td>lemon salt</td>\n",
       "      <td>6.421229</td>\n",
       "    </tr>\n",
       "    <tr>\n",
       "      <th>996</th>\n",
       "      <td>powder garam</td>\n",
       "      <td>6.421229</td>\n",
       "    </tr>\n",
       "    <tr>\n",
       "      <th>997</th>\n",
       "      <td>beef salt</td>\n",
       "      <td>6.421229</td>\n",
       "    </tr>\n",
       "    <tr>\n",
       "      <th>998</th>\n",
       "      <td>pepper starch</td>\n",
       "      <td>6.421229</td>\n",
       "    </tr>\n",
       "    <tr>\n",
       "      <th>999</th>\n",
       "      <td>pepper feta</td>\n",
       "      <td>6.421229</td>\n",
       "    </tr>\n",
       "    <tr>\n",
       "      <th>1000</th>\n",
       "      <td>pepper chili</td>\n",
       "      <td>6.421229</td>\n",
       "    </tr>\n",
       "    <tr>\n",
       "      <th>1001</th>\n",
       "      <td>pepper pineapple</td>\n",
       "      <td>6.421229</td>\n",
       "    </tr>\n",
       "  </tbody>\n",
       "</table>\n",
       "<p>1002 rows × 2 columns</p>\n",
       "</div>"
      ],
      "text/plain": [
       "                 index    Weight\n",
       "0               ground  1.873355\n",
       "1                olive  1.961198\n",
       "2            olive oil  1.989945\n",
       "3              chicken  2.059755\n",
       "4                sauce  2.153041\n",
       "5          salt pepper  2.458736\n",
       "6                flour  2.526611\n",
       "7                water  2.564014\n",
       "8                 beef  2.587485\n",
       "9               butter  2.590033\n",
       "10       ground pepper  2.597287\n",
       "11              cheese  2.631706\n",
       "12                 egg  2.655479\n",
       "13               green  2.663226\n",
       "14             parsley  2.668271\n",
       "15              tomato  2.670111\n",
       "16               sugar  2.675191\n",
       "17               juice  2.749655\n",
       "18              ginger  2.753153\n",
       "19               lemon  2.778496\n",
       "20               broth  2.785709\n",
       "21                wine  2.796627\n",
       "22             paprika  2.804498\n",
       "23               cumin  2.822038\n",
       "24                rice  2.842077\n",
       "25                 soy  2.864202\n",
       "26           soy sauce  2.873190\n",
       "27        onion garlic  2.952434\n",
       "28           vegetable  2.990409\n",
       "29              powder  3.003824\n",
       "...                ...       ...\n",
       "972              filet  6.382763\n",
       "973     cumin turmeric  6.382763\n",
       "974            ucedfat  6.401811\n",
       "975        salt tomato  6.401811\n",
       "976              chunk  6.401811\n",
       "977       cheese olive  6.401811\n",
       "978          egg water  6.401811\n",
       "979             liquid  6.401811\n",
       "980              style  6.401811\n",
       "981        baby carrot  6.401811\n",
       "982    pineapple chunk  6.401811\n",
       "983         paste beef  6.401811\n",
       "984    paprika chicken  6.401811\n",
       "985           oil bell  6.401811\n",
       "986              slive  6.401811\n",
       "987               wide  6.421229\n",
       "988             season  6.421229\n",
       "989          oil chizo  6.421229\n",
       "990       ginger green  6.421229\n",
       "991         loin chops  6.421229\n",
       "992        chizo onion  6.421229\n",
       "993      grain mustard  6.421229\n",
       "994       sugar pepper  6.421229\n",
       "995         lemon salt  6.421229\n",
       "996       powder garam  6.421229\n",
       "997          beef salt  6.421229\n",
       "998      pepper starch  6.421229\n",
       "999        pepper feta  6.421229\n",
       "1000      pepper chili  6.421229\n",
       "1001  pepper pineapple  6.421229\n",
       "\n",
       "[1002 rows x 2 columns]"
      ]
     },
     "execution_count": 56,
     "metadata": {},
     "output_type": "execute_result"
    }
   ],
   "source": [
    "#print(X)\n",
    "df_vectors = pd.DataFrame(vectorizer.idf_, index=vectorizer.get_feature_names(), columns = ['Weight'])\n",
    " \n",
    "# sort ascending\n",
    "\n",
    "df_word_weights = df_vectors.sort_values(by = 'Weight').reset_index()\n",
    "df_word_weights"
   ]
  },
  {
   "cell_type": "markdown",
   "metadata": {},
   "source": [
    "# 1. LDA"
   ]
  },
  {
   "cell_type": "code",
   "execution_count": 57,
   "metadata": {
    "ExecuteTime": {
     "end_time": "2019-09-12T03:44:36.372214Z",
     "start_time": "2019-09-12T03:44:14.872465Z"
    }
   },
   "outputs": [
    {
     "name": "stdout",
     "output_type": "stream",
     "text": [
      "LatentDirichletAllocation(batch_size=128, doc_topic_prior=None,\n",
      "                          evaluate_every=-1, learning_decay=0.7,\n",
      "                          learning_method='online', learning_offset=10.0,\n",
      "                          max_doc_update_iter=100, max_iter=10,\n",
      "                          mean_change_tol=0.001, n_components=6, n_jobs=-1,\n",
      "                          perp_tol=0.1, random_state=7, topic_word_prior=None,\n",
      "                          total_samples=1000000.0, verbose=0)\n"
     ]
    }
   ],
   "source": [
    "# Build LDA Model\n",
    "n_components = 6\n",
    "\n",
    "lda_model = LatentDirichletAllocation(n_components=n_components,   # Number of topics\n",
    "                                      max_iter=10,                 # Max learning iterations\n",
    "                                      learning_method='online',   \n",
    "                                      random_state=7,            # Random state\n",
    "                                      #batch_size=128,             # n docs in each learning iter\n",
    "                                      n_jobs = -1,                 # Use all available CPUs\n",
    "                                     )\n",
    "lda_output = lda_model.fit_transform(data_vectorized)\n",
    "\n",
    "print(lda_model)  # Model attributes"
   ]
  },
  {
   "cell_type": "code",
   "execution_count": 79,
   "metadata": {
    "ExecuteTime": {
     "end_time": "2019-09-12T04:09:56.696685Z",
     "start_time": "2019-09-12T04:09:56.692594Z"
    }
   },
   "outputs": [
    {
     "data": {
      "text/plain": [
       "array([[62.01965282, 15.66251304,  0.16824308, ...,  0.17002319,\n",
       "         0.16723832,  0.16751441],\n",
       "       [ 0.16722657,  0.16689005,  0.16966453, ...,  0.166972  ,\n",
       "         0.16754358, 14.92127139],\n",
       "       [ 0.16707347,  0.16676434,  1.58960689, ...,  0.16682084,\n",
       "         0.17054928,  5.75081573],\n",
       "       [ 0.16726708,  0.16739361,  0.16870589, ...,  0.16689894,\n",
       "         0.1689204 ,  2.61141606],\n",
       "       [10.27851637,  2.95845617, 27.36995329, ..., 24.79413992,\n",
       "        49.51826664, 18.51163648],\n",
       "       [12.15456406,  1.72896554, 12.8227153 , ...,  0.16705179,\n",
       "         0.16970125, 31.15687123]])"
      ]
     },
     "execution_count": 79,
     "metadata": {},
     "output_type": "execute_result"
    }
   ],
   "source": [
    "lda_model.components_"
   ]
  },
  {
   "cell_type": "code",
   "execution_count": 58,
   "metadata": {
    "ExecuteTime": {
     "end_time": "2019-09-12T03:44:48.052221Z",
     "start_time": "2019-09-12T03:44:36.471747Z"
    }
   },
   "outputs": [
    {
     "name": "stderr",
     "output_type": "stream",
     "text": [
      "/anaconda3/lib/python3.7/site-packages/pyLDAvis/_prepare.py:257: FutureWarning: Sorting because non-concatenation axis is not aligned. A future version\n",
      "of pandas will change to not sort by default.\n",
      "\n",
      "To accept the future behavior, pass 'sort=False'.\n",
      "\n",
      "To retain the current behavior and silence the warning, pass 'sort=True'.\n",
      "\n",
      "  return pd.concat([default_term_info] + list(topic_dfs))\n"
     ]
    },
    {
     "data": {
      "text/html": [
       "\n",
       "<link rel=\"stylesheet\" type=\"text/css\" href=\"https://cdn.rawgit.com/bmabey/pyLDAvis/files/ldavis.v1.0.0.css\">\n",
       "\n",
       "\n",
       "<div id=\"ldavis_el1841047772676325098165618\"></div>\n",
       "<script type=\"text/javascript\">\n",
       "\n",
       "var ldavis_el1841047772676325098165618_data = {\"mdsDat\": {\"x\": [34.564353942871094, 30.984182357788086, 83.94249725341797, 9.891082763671875, -51.12406539916992, -48.911373138427734], \"y\": [-88.00881958007812, 52.84525680541992, -16.28120994567871, -18.16340446472168, 23.840167999267578, -63.21248245239258], \"topics\": [1, 2, 3, 4, 5, 6], \"cluster\": [1, 1, 1, 1, 1, 1], \"Freq\": [22.8767930423206, 20.945685943224408, 19.34991867109589, 16.248490731009937, 12.940775912652343, 7.6383356996968255]}, \"tinfo\": {\"Category\": [\"Default\", \"Default\", \"Default\", \"Default\", \"Default\", \"Default\", \"Default\", \"Default\", \"Default\", \"Default\", \"Default\", \"Default\", \"Default\", \"Default\", \"Default\", \"Default\", \"Default\", \"Default\", \"Default\", \"Default\", \"Default\", \"Default\", \"Default\", \"Default\", \"Default\", \"Default\", \"Default\", \"Default\", \"Default\", \"Default\", \"Topic1\", \"Topic1\", \"Topic1\", \"Topic1\", \"Topic1\", \"Topic1\", \"Topic1\", \"Topic1\", \"Topic1\", \"Topic1\", \"Topic1\", \"Topic1\", \"Topic1\", \"Topic1\", \"Topic1\", \"Topic1\", \"Topic1\", \"Topic1\", \"Topic1\", \"Topic1\", \"Topic1\", \"Topic1\", \"Topic1\", \"Topic1\", \"Topic1\", \"Topic1\", \"Topic1\", \"Topic1\", \"Topic1\", \"Topic1\", \"Topic1\", \"Topic1\", \"Topic1\", \"Topic1\", \"Topic1\", \"Topic1\", \"Topic1\", \"Topic1\", \"Topic1\", \"Topic1\", \"Topic1\", \"Topic1\", \"Topic1\", \"Topic1\", \"Topic1\", \"Topic1\", \"Topic1\", \"Topic1\", \"Topic1\", \"Topic1\", \"Topic1\", \"Topic1\", \"Topic1\", \"Topic1\", \"Topic1\", \"Topic1\", \"Topic1\", \"Topic1\", \"Topic1\", \"Topic1\", \"Topic1\", \"Topic1\", \"Topic1\", \"Topic1\", \"Topic1\", \"Topic2\", \"Topic2\", \"Topic2\", \"Topic2\", \"Topic2\", \"Topic2\", \"Topic2\", \"Topic2\", \"Topic2\", \"Topic2\", \"Topic2\", \"Topic2\", \"Topic2\", \"Topic2\", \"Topic2\", \"Topic2\", \"Topic2\", \"Topic2\", \"Topic2\", \"Topic2\", \"Topic2\", \"Topic2\", \"Topic2\", \"Topic2\", \"Topic2\", \"Topic2\", \"Topic2\", \"Topic2\", \"Topic2\", \"Topic2\", \"Topic2\", \"Topic2\", \"Topic2\", \"Topic2\", \"Topic2\", \"Topic2\", \"Topic2\", \"Topic2\", \"Topic2\", \"Topic2\", \"Topic2\", \"Topic2\", \"Topic2\", \"Topic2\", \"Topic2\", \"Topic2\", \"Topic2\", \"Topic2\", \"Topic2\", \"Topic2\", \"Topic2\", \"Topic2\", \"Topic2\", \"Topic2\", \"Topic2\", \"Topic2\", \"Topic2\", \"Topic2\", \"Topic3\", \"Topic3\", \"Topic3\", \"Topic3\", \"Topic3\", \"Topic3\", \"Topic3\", \"Topic3\", \"Topic3\", \"Topic3\", \"Topic3\", \"Topic3\", \"Topic3\", \"Topic3\", \"Topic3\", \"Topic3\", \"Topic3\", \"Topic3\", \"Topic3\", \"Topic3\", \"Topic3\", \"Topic3\", \"Topic3\", \"Topic3\", \"Topic3\", \"Topic3\", \"Topic3\", \"Topic3\", \"Topic3\", \"Topic3\", \"Topic3\", \"Topic3\", \"Topic3\", \"Topic3\", \"Topic3\", \"Topic3\", \"Topic3\", \"Topic3\", \"Topic3\", \"Topic3\", \"Topic3\", \"Topic3\", \"Topic3\", \"Topic3\", \"Topic3\", \"Topic3\", \"Topic3\", \"Topic3\", \"Topic3\", \"Topic3\", \"Topic3\", \"Topic3\", \"Topic3\", \"Topic3\", \"Topic3\", \"Topic3\", \"Topic3\", \"Topic3\", \"Topic3\", \"Topic3\", \"Topic4\", \"Topic4\", \"Topic4\", \"Topic4\", \"Topic4\", \"Topic4\", \"Topic4\", \"Topic4\", \"Topic4\", \"Topic4\", \"Topic4\", \"Topic4\", \"Topic4\", \"Topic4\", \"Topic4\", \"Topic4\", \"Topic4\", \"Topic4\", \"Topic4\", \"Topic4\", \"Topic4\", \"Topic4\", \"Topic4\", \"Topic4\", \"Topic4\", \"Topic4\", \"Topic4\", \"Topic4\", \"Topic4\", \"Topic4\", \"Topic4\", \"Topic4\", \"Topic4\", \"Topic4\", \"Topic4\", \"Topic4\", \"Topic4\", \"Topic4\", \"Topic4\", \"Topic4\", \"Topic4\", \"Topic4\", \"Topic4\", \"Topic4\", \"Topic4\", \"Topic4\", \"Topic4\", \"Topic4\", \"Topic4\", \"Topic4\", \"Topic4\", \"Topic5\", \"Topic5\", \"Topic5\", \"Topic5\", \"Topic5\", \"Topic5\", \"Topic5\", \"Topic5\", \"Topic5\", \"Topic5\", \"Topic5\", \"Topic5\", \"Topic5\", \"Topic5\", \"Topic5\", \"Topic5\", \"Topic5\", \"Topic5\", \"Topic5\", \"Topic5\", \"Topic5\", \"Topic5\", \"Topic5\", \"Topic5\", \"Topic5\", \"Topic5\", \"Topic5\", \"Topic5\", \"Topic5\", \"Topic5\", \"Topic5\", \"Topic5\", \"Topic5\", \"Topic5\", \"Topic5\", \"Topic5\", \"Topic5\", \"Topic5\", \"Topic5\", \"Topic5\", \"Topic5\", \"Topic5\", \"Topic5\", \"Topic5\", \"Topic5\", \"Topic5\", \"Topic5\", \"Topic5\", \"Topic5\", \"Topic5\", \"Topic5\", \"Topic5\", \"Topic5\", \"Topic5\", \"Topic5\", \"Topic5\", \"Topic5\", \"Topic5\", \"Topic5\", \"Topic5\", \"Topic5\", \"Topic5\", \"Topic5\", \"Topic5\", \"Topic5\", \"Topic6\", \"Topic6\", \"Topic6\", \"Topic6\", \"Topic6\", \"Topic6\", \"Topic6\", \"Topic6\", \"Topic6\", \"Topic6\", \"Topic6\", \"Topic6\", \"Topic6\", \"Topic6\", \"Topic6\", \"Topic6\", \"Topic6\", \"Topic6\", \"Topic6\", \"Topic6\", \"Topic6\", \"Topic6\", \"Topic6\", \"Topic6\", \"Topic6\", \"Topic6\", \"Topic6\", \"Topic6\", \"Topic6\", \"Topic6\", \"Topic6\", \"Topic6\", \"Topic6\", \"Topic6\", \"Topic6\", \"Topic6\", \"Topic6\", \"Topic6\", \"Topic6\", \"Topic6\", \"Topic6\", \"Topic6\", \"Topic6\", \"Topic6\", \"Topic6\", \"Topic6\", \"Topic6\", \"Topic6\"], \"Freq\": [229.0, 253.0, 263.0, 499.0, 261.0, 523.0, 155.0, 155.0, 342.0, 243.0, 242.0, 125.0, 125.0, 273.0, 216.0, 154.0, 348.0, 169.0, 289.0, 247.0, 194.0, 199.0, 83.0, 302.0, 82.0, 200.0, 144.0, 126.0, 111.0, 307.0, 113.3262784597112, 80.65459091822297, 78.68823760864976, 75.53285447443693, 47.50445300429385, 45.571251774377195, 44.653586556108394, 36.72915720295733, 37.17833080975175, 35.81227355724926, 35.185934534760584, 33.645924300784216, 32.390712329517264, 31.339518817307784, 30.985155895116606, 30.985155884921504, 30.834995788238672, 30.34200376250927, 30.116506764144102, 29.571446297787706, 48.460888248499586, 28.96408021821922, 28.10424710178693, 27.548791134720826, 26.842226652113634, 26.1407501579385, 26.022584884696904, 25.23511015829342, 25.019523265813437, 24.95362083788637, 97.61913886135558, 94.78830792141902, 134.0951118369702, 69.44119583837872, 35.82729389138745, 253.5146669820193, 126.78169133704688, 75.19975661566598, 90.18216910665639, 56.15116072966049, 115.1262925019419, 171.2284495945438, 118.89151255816365, 199.58942847912107, 58.97499542286954, 202.74597391758428, 137.6233990454818, 78.20059958862804, 115.75789793825712, 115.70346928939078, 71.68463567533003, 102.12307500352168, 49.521566029940715, 70.74755600176755, 70.7475042921934, 100.43694685107131, 118.40325617918066, 125.86386690540076, 108.09340585670282, 112.92976700830779, 115.12510471875457, 125.855965496899, 92.09576747122301, 86.83708298412927, 86.5259090304694, 99.67484658950787, 95.86302394706813, 86.03496819838605, 84.01659006658414, 80.83372896026265, 76.10849885735298, 73.84537825620164, 68.10942502564937, 67.18070541924517, 66.63714542262807, 65.00128810086638, 61.72879566359838, 45.92599870021869, 43.55924439700928, 40.89276751408811, 39.376355413425756, 38.54367527480304, 36.46972430293339, 34.750145266675965, 33.556833053608, 33.473766543347224, 31.961087526198185, 31.395338694927258, 29.872046356760787, 29.140474184914925, 29.139908005131513, 28.057699503613254, 27.537141759819942, 26.959302417426933, 26.769970864024614, 71.81870736627162, 289.4701386208816, 85.28858523223393, 61.708057877022306, 118.7357466207712, 107.88542201310604, 82.27821058881042, 57.491135880991095, 47.41031447434092, 54.919586939634314, 69.89480212514219, 129.61323195969086, 109.94397343674048, 79.87371283014222, 141.38169059745948, 196.58494870571678, 138.61136987903689, 128.36966693822782, 110.13884081065723, 71.15493427706674, 97.1453386754661, 84.48680624413583, 85.8052084485668, 83.48262936451322, 81.10551055582384, 82.16673219111978, 77.18422371179003, 73.9192766805746, 168.29498259494522, 125.22906633115251, 107.07522638646934, 69.24035766828284, 68.00129005843988, 64.13912561162745, 64.13912553267696, 60.59325115438369, 60.82327218647611, 51.82778068629952, 50.09886732654271, 45.07654412161679, 43.39968881527874, 39.45868169444272, 38.12768082882201, 35.404899023398144, 32.182279319154674, 28.58806147378545, 27.09713658289581, 25.08485073663729, 25.08485070987956, 24.957500279976994, 29.82248948429435, 22.66506996630316, 22.68499088269702, 22.53206997538708, 23.596584256769688, 21.409138266316717, 21.273092922298094, 22.48976297843426, 135.70221467641227, 107.19894447833684, 198.89148225769878, 100.42610976384273, 38.78520153970312, 85.01597934252597, 49.19941803559089, 93.95348004817953, 32.105706384215395, 51.58180337014944, 47.47381492043773, 140.37639544266838, 154.1667235714404, 130.20325000264762, 102.28813257596481, 107.98822987813634, 244.09836502556777, 73.81294316738689, 71.89398066103081, 127.26694246671542, 113.7259872656311, 64.81516463384833, 89.68407019000321, 99.74948334844305, 86.10274377898232, 89.97604030644833, 91.13319899695807, 83.42810369785619, 67.0654555122293, 65.75594522201037, 262.70358656140934, 260.2407495281385, 153.23576913543505, 110.91079660147938, 102.28494924811933, 80.46609176636326, 76.20232691250679, 70.72505402701321, 61.11233505621731, 60.31570101516717, 55.95763909668577, 45.51198006525994, 44.87504627845823, 45.08106930439305, 43.536426353327634, 43.324935831325135, 42.866306129092166, 42.99579805582935, 41.79305002049719, 41.48847980141231, 40.76158916768357, 102.6372879803542, 37.59416490334885, 34.84088325932881, 35.37326885453142, 34.13217057368368, 34.53675657073362, 34.01572786993809, 33.434725486373054, 33.352396112342134, 72.93148485582267, 106.55956401909326, 52.07159501724197, 355.40313663719, 105.76600014783403, 193.4959401214614, 81.5117292062182, 81.89775850702954, 133.54221603911526, 55.60512588942088, 64.14706842784102, 118.5813178693453, 94.67138080251074, 92.66885986883746, 71.16388730427482, 69.78708383192793, 55.85977927321061, 88.31288745797353, 72.7811896480414, 67.72878203284752, 57.03850478986357, 57.574014821600926, 92.5868279520668, 48.52314000975434, 45.58708258371119, 37.98976440414041, 40.92849020351026, 34.67740010305625, 34.78537301113446, 32.95896645248438, 32.958966450068175, 32.286911833881305, 29.544210240834698, 29.20501469898607, 28.663282083234634, 26.605749664246524, 26.587883501785765, 26.018183040245493, 25.389886796640234, 25.242922289325953, 25.242922287575826, 24.70112565334236, 24.08867994626091, 23.841443412647422, 21.7685295280093, 21.43583638152981, 21.435836379359454, 21.271941726301073, 65.89090386828207, 19.30434536635113, 18.886918789035448, 61.15494729261784, 61.46005384264166, 65.58208965924558, 195.23050434128302, 194.62474780763532, 49.09277741224948, 62.021214319940874, 83.56817804747077, 56.30415081689732, 34.94966030159214, 63.16143630463299, 32.30449393036054, 134.80333424759579, 31.560041835419778, 132.17183697461726, 74.6880877059494, 47.92064726513988, 44.84337232752235, 66.6690980920155, 93.77266346722487, 57.173708334078306, 52.90581084444371, 58.72745824243484, 56.48026307180082, 107.77453335908763, 86.07979349106529, 95.47632410189895, 69.40602147809066, 95.40015548247513, 52.4646620646017, 61.92240666598334, 63.271753047476494, 64.96940317516109, 60.391762788883, 56.45723031667953, 155.12142765872562, 154.73861513890736, 124.29302383029882, 124.15483468629003, 82.63041717782068, 81.56539864540288, 44.94818139860449, 42.705535766604655, 34.80852686238878, 34.30427220741752, 34.367582290602655, 34.284216378991985, 34.010555882959494, 33.65585959419726, 33.513351517911815, 29.795932503097156, 28.834186022964257, 28.83418601259913, 28.59696651622048, 28.37809232309839, 28.131207557433466, 26.21254039690623, 24.65285333125319, 24.652853275252674, 23.844845634324408, 22.47864422650597, 22.828366964333746, 22.461460102742606, 22.30848718796175, 22.052321799818696, 196.2876908254406, 56.835008287631446, 192.6287709882123, 47.759700827336964, 32.451660400163156, 33.68919790077166, 93.55840622559761, 177.8883361916631, 93.67085120257234, 59.35518689212735, 33.206745652474886, 33.206330249569575, 40.39216602022398, 40.342886011838154, 51.39123361315292, 53.81133245651902, 42.491282498356355, 40.14477789453641], \"Term\": [\"boneless chicken\", \"boneless\", \"soy\", \"sauce\", \"soy sauce\", \"chicken\", \"feta\", \"feta cheese\", \"cheese\", \"bell\", \"bell pepper\", \"breasts\", \"chicken breasts\", \"rice\", \"cumin\", \"sesame\", \"beef\", \"coconut\", \"sugar\", \"ginger\", \"chicken breast\", \"breast\", \"crumbles\", \"green\", \"cheese crumbles\", \"lime\", \"ground cumin\", \"cier\", \"sesame oil\", \"flour\", \"sauerkraut\", \"caraway\", \"beef stock\", \"caraway seed\", \"flour beef\", \"brat\", \"pastry\", \"carrot celery\", \"onion celery\", \"carrot onion\", \"veal\", \"egg noodle\", \"stew\", \"half\", \"puff\", \"puff pastry\", \"celery ribs\", \"brisket\", \"stew meat\", \"bacon onion\", \"ribs\", \"onion mushroom\", \"beef brisket\", \"button\", \"onion egg\", \"button mushroom\", \"chuck roast\", \"mushroom soup\", \"mashed\", \"gravy\", \"celery\", \"beef broth\", \"sour cream\", \"beer\", \"hungarian paprika\", \"beef\", \"mushroom\", \"unsalted butter\", \"bacon\", \"butter onion\", \"sour\", \"cream\", \"potato\", \"butter\", \"onion carrot\", \"flour\", \"carrot\", \"unsalted\", \"thyme\", \"bay\", \"bay leaves\", \"mustard\", \"chuck\", \"wcestershire\", \"wcestershire sauce\", \"stock\", \"wine\", \"water\", \"broth\", \"egg\", \"salt pepper\", \"ground\", \"parsley\", \"milk\", \"ground pepper\", \"parmesan\", \"parmesan cheese\", \"crumbs\", \"bread crumbs\", \"greek\", \"cheddar\", \"cheddar cheese\", \"grated parmesan\", \"mzarella\", \"greek yogurt\", \"lean ground\", \"mzarella cheese\", \"wheat\", \"panko\", \"whole wheat\", \"ground turkey\", \"garlic dried\", \"beef ground\", \"panko breadcrumbs\", \"shded cheddar\", \"ground lamb\", \"plain greek\", \"egano ground\", \"shded mzarella\", \"enchilada\", \"enchilada sauce\", \"salt egg\", \"ricotta\", \"hamburger\", \"yolks\", \"pasta\", \"cheese\", \"grated\", \"lean\", \"ground beef\", \"bread\", \"shded\", \"seasoning\", \"breadcrumbs\", \"italian\", \"cucumber\", \"dried\", \"egano\", \"dried egano\", \"egg\", \"ground\", \"olive\", \"olive oil\", \"lemon\", \"basil\", \"salt pepper\", \"ground pepper\", \"beef\", \"flour\", \"parsley\", \"sauce\", \"tomato\", \"powder\", \"coconut\", \"cier\", \"curry\", \"ground cier\", \"masala\", \"garam\", \"garam masala\", \"cumin ground\", \"curry paste\", \"curry powder\", \"zest\", \"cumin seed\", \"coconut oil\", \"cardamom\", \"lemongrass\", \"cier ground\", \"lemon zest\", \"juice garlic\", \"turmeric ground\", \"yukon\", \"yukon gold\", \"gold potatoes\", \"cumin salt\", \"cumin chili\", \"halve\", \"powder pepper\", \"juice lime\", \"roma\", \"ghee\", \"boiling water\", \"ground cumin\", \"coconut milk\", \"cumin\", \"turmeric\", \"garlic chili\", \"chili powder\", \"ground turmeric\", \"cinnamon\", \"cinnamon ground\", \"ground cinnamon\", \"powder ground\", \"cilantro\", \"powder\", \"lime\", \"fish\", \"chili\", \"ground\", \"cayenne\", \"lime juice\", \"juice\", \"ginger\", \"ange\", \"paste\", \"lemon\", \"milk\", \"olive\", \"chicken\", \"olive oil\", \"leave\", \"paprika\", \"soy\", \"soy sauce\", \"sesame\", \"sesame oil\", \"peanut\", \"ttillas\", \"rice vinegar\", \"mirin\", \"thai\", \"sake\", \"jalapeno\", \"oyster\", \"chili sauce\", \"flour ttillas\", \"sauce soy\", \"peanut oil\", \"oyster sauce\", \"jalapeno chilie\", \"chinese\", \"sesame seed\", \"sauce rice\", \"fish sauce\", \"toasted sesame\", \"dark soy\", \"cracked\", \"miso\", \"cracked pepper\", \"pineapple juice\", \"light soy\", \"hoisin sauce\", \"sauce sugar\", \"pineapple\", \"dark\", \"sauce\", \"starch\", \"sugar\", \"scallion\", \"green onion\", \"ginger\", \"chilie\", \"light\", \"rice\", \"vinegar\", \"green\", \"vegetable oil\", \"lime\", \"honey\", \"chicken\", \"water\", \"vegetable\", \"chili\", \"chizo\", \"green bell\", \"taco\", \"pepper bell\", \"spanish\", \"rice wine\", \"mussel\", \"clam\", \"longgrain rice\", \"longgrain\", \"flet\", \"chizo sausage\", \"grain rice\", \"rice water\", \"broccoli flet\", \"basmati\", \"basmati rice\", \"long\", \"arbio rice\", \"arbio\", \"long grain\", \"rice chicken\", \"kidney\", \"taco seasone\", \"butternut squash\", \"butternut\", \"garlic bell\", \"onion bell\", \"heart\", \"artichoke heart\", \"broccoli\", \"cooked rice\", \"onion green\", \"bell\", \"bell pepper\", \"mix\", \"saffron\", \"cooked\", \"green pepper\", \"cooked chicken\", \"peas\", \"thread\", \"rice\", \"saffron thread\", \"green\", \"shrimp\", \"smoked paprika\", \"fren peas\", \"bean\", \"paprika\", \"minced garlic\", \"smoked\", \"sausage\", \"fren\", \"olive\", \"tomato\", \"olive oil\", \"tomatoe\", \"chicken\", \"pepper garlic\", \"oil onion\", \"onion garlic\", \"parsley\", \"broth\", \"wine\", \"feta\", \"feta cheese\", \"breasts\", \"chicken breasts\", \"crumbles\", \"cheese crumbles\", \"ginger root\", \"coarse\", \"coarse salt\", \"halves\", \"jasmine\", \"finely onion\", \"breast halves\", \"tomato pur\", \"jasmine rice\", \"pepper boneless\", \"chicken thigh\", \"thigh\", \"crumb\", \"sodium\", \"breast salt\", \"bread crumb\", \"marinara\", \"marinara sauce\", \"pitted kalamata\", \"pepper feta\", \"sugar starch\", \"drumstick\", \"sodium chicken\", \"less\", \"boneless chicken\", \"kalamata\", \"boneless\", \"root\", \"pur\", \"oil boneless\", \"chicken breast\", \"chicken\", \"breast\", \"chicken broth\", \"pitted\", \"finely\", \"chicken thighs\", \"thighs\", \"lemon\", \"olive\", \"olive oil\", \"broth\"], \"Total\": [229.0, 253.0, 263.0, 499.0, 261.0, 523.0, 155.0, 155.0, 342.0, 243.0, 242.0, 125.0, 125.0, 273.0, 216.0, 154.0, 348.0, 169.0, 289.0, 247.0, 194.0, 199.0, 83.0, 302.0, 82.0, 200.0, 144.0, 126.0, 111.0, 307.0, 114.19390929007264, 81.52344656201466, 79.55827947585712, 76.3993906423289, 48.37139418818251, 46.439450391852915, 45.522809375718666, 37.59736993142966, 38.0590808209095, 36.691326804588925, 36.05883846297041, 34.51497179092132, 33.257715226097936, 32.2076205283663, 31.851843947639708, 31.85184395000551, 31.703232742367476, 31.208339457875358, 30.98353874747664, 30.439245956215345, 49.91810643057439, 29.83841663960461, 28.970140466697174, 28.417562905804896, 27.723155889556242, 27.009294057865073, 26.89292645781577, 26.102423797984276, 25.88625076424052, 25.821362296723212, 104.04145671590935, 101.30584975559886, 146.71106987733816, 76.20353784235567, 38.13753915816983, 348.4738313428602, 162.13150815942765, 89.24929165895216, 110.23717715805347, 64.02680435538984, 148.4417986883033, 236.94952414320855, 156.30820269233877, 290.8132863109099, 69.04678165192713, 307.8569978554406, 194.28116531275356, 98.05254278555341, 164.72526913587274, 166.76548319048345, 91.09932859221011, 148.77419308047735, 56.788082267807255, 100.26620922068432, 100.26620641524522, 184.24501799894836, 260.9103290972125, 308.1074761304228, 247.15289124920884, 297.1135063574168, 327.9331351876523, 610.0104322369052, 264.9534887367407, 230.45938786120885, 269.33235364203483, 100.55864507900725, 96.74619572179562, 86.91488465151642, 84.89615757826664, 81.72183889779812, 76.98854131658366, 74.72505250703571, 68.98868442685456, 68.05902823518429, 67.52104016674194, 65.88269967045487, 62.6070946283686, 46.81068486472104, 44.44131052139802, 41.77441253354387, 40.25748083343492, 39.43381153261417, 37.354343032514734, 35.63110971130101, 34.43608642561351, 34.36175016900622, 32.841579702164864, 32.29081263358554, 30.750178047311504, 30.02570539869135, 30.025688765085793, 28.94433309454075, 28.416450318102736, 27.840102005324667, 27.65161839709828, 75.06504822070055, 342.7412494151551, 102.77537455026541, 71.56537267895962, 159.80054270348938, 142.59730127653629, 104.56641765370465, 68.00570990058654, 53.70965333789093, 66.65388664408813, 93.15953425732592, 242.43273678479034, 196.16438438267022, 121.52878912093942, 297.1135063574168, 610.0104322369052, 443.5035189406134, 405.1842792314553, 307.3243050570994, 129.62353552606143, 327.9331351876523, 269.33235364203483, 348.4738313428602, 307.8569978554406, 264.9534887367407, 499.257908488307, 280.0407334676957, 248.59154585249843, 169.20202960500885, 126.09648801566654, 107.99397044287163, 70.09977127296033, 68.85978320520695, 64.99759724702415, 64.99759723892019, 61.45470157637568, 61.69365249593419, 52.697130397076855, 50.96699727450766, 45.93528227982214, 44.26170734361403, 40.320161206413644, 38.990726759021165, 36.26341330749046, 33.05087558414272, 29.462990623702016, 27.9555221756269, 25.94690704322216, 25.946907040999072, 25.819889217983086, 30.934789394004945, 23.524948992506765, 23.553329300580526, 23.404580278121063, 24.551112109602155, 22.28298170535792, 22.141526967497445, 23.421106164654628, 144.18991031023612, 114.55859749472972, 216.02304751280963, 108.07694160851764, 41.24157398000264, 94.65847778564081, 53.228111515850536, 107.06569435705647, 34.13151965272303, 58.495204404258395, 53.38264131052189, 211.08481570920264, 248.59154585249843, 200.73524131212824, 151.39364333455816, 178.0683450687024, 610.0104322369052, 105.18336092656365, 109.41363244225862, 284.57101779750514, 247.98727248116307, 95.34975765389501, 188.87676265364922, 307.3243050570994, 230.45938786120885, 443.5035189406134, 523.2332016927883, 405.1842792314553, 156.92575335205834, 242.59464677386163, 263.58762060132176, 261.1242884411897, 154.1182387020645, 111.79316159014088, 103.1687326016172, 81.3645917570899, 77.08532432817111, 71.6068871816318, 62.00247135969527, 61.19854858022637, 56.84426164033084, 46.396508783639504, 45.75917179970084, 45.969744176606866, 44.41931215806188, 44.20903767326577, 43.74844474840094, 43.88244126495583, 42.67501242408729, 42.37108336911243, 41.64464508568304, 105.01612327042842, 38.47622298593604, 35.72272776835982, 36.26964593439315, 35.014348915066435, 35.4294527356147, 34.89802300649647, 34.31669890148659, 34.23451772909212, 75.86139157133022, 116.55687905297106, 55.31922411580158, 499.257908488307, 136.9075605818361, 289.96575832803353, 102.08506066792889, 115.95431243537922, 247.98727248116307, 67.20645997381527, 88.25617164866671, 273.71803413608063, 215.14927736514824, 302.94443806616897, 186.1034098513258, 200.73524131212824, 96.66945334667781, 523.2332016927883, 308.1074761304228, 229.56906782121928, 178.0683450687024, 58.40218828204534, 93.95776496856769, 49.35730721905437, 46.42071781508162, 38.81995922690454, 41.869047328186696, 35.512172109493484, 35.63438911704728, 33.78735790220794, 33.787357904039084, 33.1211788729236, 30.371558402519494, 30.0329774559452, 29.50959046997293, 27.437286686421213, 27.41973842605484, 26.850082664390296, 26.218025874107116, 26.07045024528587, 26.070450244748546, 25.529026327571472, 24.919049815624618, 24.67819628718513, 22.59934625126603, 22.266066441271175, 22.266066441240316, 22.106399801589657, 68.50456662375706, 20.137327998658645, 19.719240364705257, 64.09667068924972, 66.1369946150716, 74.21049202374756, 243.4074121916591, 242.6012983363416, 56.1172681250144, 76.1779108297817, 112.10329139326403, 70.28981955810248, 39.25786196376527, 87.4907690949679, 36.08655873435812, 273.71803413608063, 35.35214422587459, 302.94443806616897, 133.47352845340487, 68.13734731741162, 61.50199149057614, 128.0232103067175, 242.59464677386163, 101.09561773299029, 90.7349160898067, 114.37821722968158, 105.53937742635544, 443.5035189406134, 280.0407334676957, 405.1842792314553, 203.77685279686253, 523.2332016927883, 97.05448934051336, 194.0897263672271, 217.78611388503572, 264.9534887367407, 247.15289124920884, 260.9103290972125, 155.94971187678166, 155.56689487543377, 125.15417310296013, 125.01616698759119, 83.45674779645356, 82.39143922011921, 45.77953355185712, 43.53959064224942, 35.63696273890483, 35.129993460892756, 35.197150628658584, 35.11627404728987, 34.836211849365604, 34.48560899664846, 34.34298679189696, 30.625453470458975, 29.66220623994881, 29.662206240343203, 29.424955453855908, 29.205099443097673, 28.959630112872873, 27.040036609370034, 25.480989215847988, 25.480989201370893, 24.67048558624557, 23.30468667829021, 23.66871682918685, 23.28939366230844, 23.134143103379753, 22.87789696899706, 229.2100437498626, 63.09232462133488, 253.33718600319455, 54.79630465115562, 37.04421208954143, 39.00986707999893, 194.3688890135973, 523.2332016927883, 199.0754047186188, 173.9865207633494, 43.547033335107486, 44.06591112462759, 109.01034202945554, 109.14197334340821, 307.3243050570994, 443.5035189406134, 405.1842792314553, 247.15289124920884], \"loglift\": [30.0, 29.0, 28.0, 27.0, 26.0, 25.0, 24.0, 23.0, 22.0, 21.0, 20.0, 19.0, 18.0, 17.0, 16.0, 15.0, 14.0, 13.0, 12.0, 11.0, 10.0, 9.0, 8.0, 7.0, 6.0, 5.0, 4.0, 3.0, 2.0, 1.0, 1.4674, 1.4643, 1.4641, 1.4636, 1.457, 1.4562, 1.4558, 1.4517, 1.4516, 1.4508, 1.4505, 1.4495, 1.4486, 1.4477, 1.4475, 1.4475, 1.4473, 1.4469, 1.4467, 1.4461, 1.4454, 1.4453, 1.4447, 1.444, 1.4428, 1.4424, 1.4421, 1.4413, 1.441, 1.4409, 1.4113, 1.4085, 1.3851, 1.3821, 1.4126, 1.1569, 1.2291, 1.3038, 1.2742, 1.3438, 1.2209, 1.1502, 1.2014, 1.0986, 1.3174, 1.0574, 1.1303, 1.2488, 1.1223, 1.1095, 1.2354, 1.0988, 1.3381, 1.1263, 1.1263, 0.8683, 0.685, 0.5798, 0.648, 0.5077, 0.4283, -0.1033, 0.4183, 0.499, 0.3395, 1.5544, 1.5541, 1.5531, 1.5528, 1.5523, 1.5517, 1.5514, 1.5504, 1.5502, 1.5501, 1.5498, 1.5491, 1.5442, 1.5432, 1.5419, 1.5411, 1.5404, 1.5393, 1.5382, 1.5374, 1.5371, 1.5361, 1.5351, 1.5343, 1.5333, 1.5333, 1.5321, 1.5318, 1.5311, 1.5308, 1.519, 1.3943, 1.3767, 1.415, 1.2662, 1.2843, 1.3235, 1.3953, 1.4385, 1.3696, 1.2759, 0.9371, 0.9843, 1.1435, 0.8206, 0.4309, 0.4002, 0.4138, 0.5371, 0.9635, 0.3466, 0.4039, 0.1618, 0.2582, 0.3794, -0.2411, 0.2745, 0.3504, 1.6371, 1.6356, 1.6339, 1.6301, 1.6299, 1.6292, 1.6292, 1.6284, 1.6283, 1.6258, 1.6253, 1.6236, 1.6228, 1.6209, 1.6201, 1.6185, 1.6158, 1.6123, 1.6113, 1.6087, 1.6087, 1.6085, 1.6059, 1.6052, 1.6049, 1.6045, 1.6028, 1.6025, 1.6025, 1.6019, 1.5818, 1.5761, 1.5599, 1.5691, 1.5811, 1.535, 1.5638, 1.5118, 1.5813, 1.5167, 1.5252, 1.2345, 1.1647, 1.2096, 1.2504, 1.1423, 0.7266, 1.2883, 1.2225, 0.8378, 0.8629, 1.2565, 0.8977, 0.5172, 0.6579, 0.0473, -0.1052, 0.0621, 0.7924, 0.337, 1.8138, 1.8138, 1.8114, 1.8092, 1.8086, 1.8061, 1.8056, 1.8048, 1.8027, 1.8026, 1.8014, 1.7979, 1.7977, 1.7976, 1.7971, 1.797, 1.7968, 1.7968, 1.7963, 1.7961, 1.7957, 1.7943, 1.794, 1.7922, 1.7921, 1.7917, 1.7917, 1.7916, 1.7911, 1.7911, 1.7778, 1.7275, 1.7567, 1.4773, 1.5591, 1.4127, 1.5921, 1.4694, 1.1982, 1.6277, 1.4981, 0.9807, 0.9962, 0.6327, 0.8559, 0.7606, 1.2687, 0.038, 0.3742, 0.5965, 0.6787, 2.0305, 2.0301, 2.0277, 2.0267, 2.0232, 2.0221, 2.021, 2.0207, 2.02, 2.02, 2.0193, 2.0172, 2.0168, 2.0157, 2.014, 2.014, 2.0133, 2.0127, 2.0125, 2.0125, 2.0118, 2.0109, 2.0103, 2.0073, 2.0068, 2.0068, 2.0063, 2.0059, 2.0025, 2.0017, 1.9978, 1.9714, 1.9212, 1.8242, 1.8244, 1.9111, 1.8392, 1.751, 1.8229, 1.9285, 1.7189, 1.9341, 1.3365, 1.9313, 1.2153, 1.4642, 1.6928, 1.7289, 1.3923, 1.0943, 1.4748, 1.5054, 1.3782, 1.4196, 0.6301, 0.8651, 0.5993, 0.9677, 0.3428, 1.4297, 0.9023, 0.8087, 0.6391, 0.6356, 0.5141, 2.5667, 2.5667, 2.5651, 2.5651, 2.562, 2.5619, 2.5537, 2.5526, 2.5485, 2.5482, 2.5481, 2.548, 2.548, 2.5476, 2.5475, 2.5445, 2.5437, 2.5437, 2.5434, 2.5433, 2.543, 2.5409, 2.539, 2.539, 2.538, 2.5359, 2.5358, 2.5358, 2.5356, 2.5352, 2.4169, 2.4675, 2.298, 2.4345, 2.4396, 2.4254, 1.8408, 1.4931, 1.8181, 1.4966, 2.3009, 2.289, 1.5792, 1.5768, 0.7836, 0.4628, 0.3169, 0.7545], \"logprob\": [30.0, 29.0, 28.0, 27.0, 26.0, 25.0, 24.0, 23.0, 22.0, 21.0, 20.0, 19.0, 18.0, 17.0, 16.0, 15.0, 14.0, 13.0, 12.0, 11.0, 10.0, 9.0, 8.0, 7.0, 6.0, 5.0, 4.0, 3.0, 2.0, 1.0, -4.6591, -4.9992, -5.0239, -5.0648, -5.5285, -5.5701, -5.5904, -5.7858, -5.7736, -5.8111, -5.8287, -5.8735, -5.9115, -5.9445, -5.9558, -5.9558, -5.9607, -5.9768, -5.9843, -6.0025, -5.5086, -6.0233, -6.0534, -6.0734, -6.0994, -6.1259, -6.1304, -6.1611, -6.1697, -6.1723, -4.8083, -4.8377, -4.4908, -5.1489, -5.8106, -3.8539, -4.5469, -5.0692, -4.8875, -5.3613, -4.6433, -4.2464, -4.6111, -4.0931, -5.3122, -4.0774, -4.4648, -5.0301, -4.6379, -4.6383, -5.1171, -4.7632, -5.4869, -5.1302, -5.1302, -4.7798, -4.6153, -4.5542, -4.7064, -4.6626, -4.6433, -4.5542, -4.8665, -4.9253, -4.9289, -4.6993, -4.7382, -4.8464, -4.8702, -4.9088, -4.969, -4.9992, -5.08, -5.0938, -5.1019, -5.1268, -5.1784, -5.4741, -5.527, -5.5902, -5.628, -5.6494, -5.7047, -5.753, -5.7879, -5.7904, -5.8366, -5.8545, -5.9042, -5.929, -5.9291, -5.9669, -5.9856, -6.0068, -6.0139, -5.027, -3.6331, -4.8551, -5.1788, -4.5243, -4.6201, -4.8911, -5.2495, -5.4423, -5.2953, -5.0542, -4.4366, -4.6012, -4.9207, -4.3497, -4.0201, -4.3695, -4.4463, -4.5994, -5.0363, -4.725, -4.8646, -4.8491, -4.8765, -4.9054, -4.8924, -4.955, -4.9982, -4.0962, -4.3918, -4.5484, -4.9843, -5.0024, -5.0609, -5.0609, -5.1177, -5.1139, -5.274, -5.3079, -5.4136, -5.4515, -5.5467, -5.581, -5.6551, -5.7505, -5.8689, -5.9225, -5.9997, -5.9997, -6.0047, -5.8267, -6.1011, -6.1002, -6.107, -6.0608, -6.1581, -6.1645, -6.1089, -4.3115, -4.5472, -3.9292, -4.6125, -5.5639, -4.7791, -5.326, -4.6791, -5.7529, -5.2788, -5.3617, -4.2776, -4.1839, -4.3528, -4.5941, -4.5399, -3.7243, -4.9204, -4.9467, -4.3756, -4.4881, -5.0504, -4.7256, -4.6193, -4.7664, -4.7224, -4.7096, -4.7979, -5.0163, -5.036, -3.4762, -3.4856, -4.0153, -4.3385, -4.4195, -4.6594, -4.7138, -4.7884, -4.9345, -4.9476, -5.0226, -5.2293, -5.2434, -5.2388, -5.2736, -5.2785, -5.2891, -5.2861, -5.3145, -5.3218, -5.3395, -4.416, -5.4204, -5.4964, -5.4813, -5.517, -5.5052, -5.5204, -5.5376, -5.5401, -4.7577, -4.3785, -5.0946, -3.174, -4.386, -3.782, -4.6465, -4.6418, -4.1528, -5.029, -4.8861, -4.2716, -4.4968, -4.5182, -4.7822, -4.8018, -5.0244, -4.5663, -4.7598, -4.8317, -5.0035, -4.7665, -4.2915, -4.9376, -5.0, -5.1823, -5.1078, -5.2735, -5.2704, -5.3244, -5.3244, -5.345, -5.4337, -5.4453, -5.464, -5.5385, -5.5392, -5.5608, -5.5853, -5.5911, -5.5911, -5.6128, -5.6379, -5.6482, -5.7392, -5.7546, -5.7546, -5.7622, -4.6316, -5.8593, -5.8811, -4.7062, -4.7012, -4.6363, -3.5454, -3.5485, -4.9259, -4.6921, -4.394, -4.7888, -5.2657, -4.6739, -5.3444, -3.9158, -5.3677, -3.9355, -4.5063, -4.9501, -5.0164, -4.6199, -4.2787, -4.7735, -4.8511, -4.7467, -4.7857, -4.1396, -4.3643, -4.2607, -4.5796, -4.2615, -4.8595, -4.6937, -4.6722, -4.6457, -4.7188, -4.7861, -3.2482, -3.2507, -3.4698, -3.4709, -3.878, -3.891, -4.4869, -4.5381, -4.7425, -4.7571, -4.7553, -4.7577, -4.7657, -4.7762, -4.7805, -4.898, -4.9309, -4.9309, -4.9391, -4.9468, -4.9555, -5.0262, -5.0875, -5.0875, -5.1208, -5.1798, -5.1644, -5.1806, -5.1874, -5.199, -3.0128, -4.2523, -3.0316, -4.4262, -4.8127, -4.7752, -3.7538, -3.1113, -3.7526, -4.2089, -4.7897, -4.7897, -4.5938, -4.595, -4.3529, -4.3069, -4.5431, -4.5999]}, \"token.table\": {\"Topic\": [2, 3, 4, 5, 6, 5, 5, 5, 1, 2, 1, 2, 3, 4, 5, 5, 1, 3, 5, 1, 3, 5, 2, 3, 5, 6, 1, 2, 4, 1, 1, 2, 2, 1, 1, 2, 3, 2, 3, 4, 5, 2, 3, 4, 5, 3, 1, 3, 5, 6, 3, 5, 6, 1, 1, 2, 6, 2, 1, 2, 2, 3, 4, 5, 6, 6, 6, 6, 1, 1, 5, 5, 1, 2, 3, 5, 6, 1, 2, 3, 4, 1, 2, 3, 5, 5, 1, 1, 1, 1, 3, 1, 3, 4, 5, 1, 1, 1, 2, 3, 5, 1, 2, 3, 1, 2, 2, 1, 2, 6, 6, 1, 2, 3, 4, 5, 6, 2, 3, 4, 5, 6, 6, 1, 2, 3, 5, 6, 6, 3, 4, 5, 6, 2, 3, 4, 5, 2, 3, 4, 2, 4, 4, 5, 5, 1, 2, 1, 3, 3, 2, 3, 4, 5, 1, 2, 3, 2, 3, 5, 6, 6, 3, 3, 4, 3, 1, 2, 3, 5, 1, 5, 3, 5, 4, 4, 1, 2, 3, 6, 6, 2, 2, 3, 4, 2, 3, 5, 3, 3, 3, 3, 3, 3, 3, 1, 4, 4, 1, 2, 3, 5, 6, 2, 3, 5, 6, 6, 2, 3, 5, 6, 2, 1, 2, 4, 1, 2, 2, 6, 6, 1, 6, 6, 2, 3, 5, 4, 5, 5, 1, 2, 3, 4, 1, 4, 1, 2, 3, 5, 1, 5, 3, 3, 5, 3, 4, 2, 3, 3, 4, 6, 3, 5, 1, 2, 3, 2, 1, 2, 2, 1, 2, 3, 4, 5, 2, 5, 1, 2, 3, 4, 5, 2, 3, 5, 1, 2, 3, 4, 5, 1, 2, 3, 2, 3, 2, 3, 2, 1, 2, 3, 4, 5, 6, 2, 3, 5, 1, 3, 6, 2, 5, 4, 2, 3, 4, 1, 6, 2, 3, 5, 4, 4, 6, 6, 1, 2, 3, 4, 5, 6, 3, 3, 2, 3, 6, 5, 1, 2, 2, 1, 2, 3, 4, 5, 1, 2, 3, 4, 5, 6, 3, 3, 6, 2, 3, 4, 4, 3, 4, 3, 4, 5, 5, 5, 5, 6, 6, 3, 1, 1, 2, 3, 2, 5, 4, 4, 5, 6, 1, 2, 5, 6, 1, 5, 1, 2, 4, 2, 2, 3, 5, 6, 1, 2, 3, 5, 6, 1, 2, 3, 4, 5, 6, 1, 2, 3, 4, 5, 6, 2, 5, 1, 3, 1, 1, 1, 2, 3, 4, 5, 6, 2, 4, 5, 1, 4, 4, 2, 2, 1, 2, 3, 5, 6, 2, 2, 1, 2, 3, 5, 6, 1, 2, 1, 2, 3, 5, 1, 4, 4, 1, 3, 5, 5, 6, 6, 1, 2, 3, 4, 5, 2, 4, 4, 3, 5, 6, 6, 2, 1, 2, 3, 4, 2, 3, 4, 2, 3, 3, 1, 1, 3, 6, 1, 3, 2, 3, 4, 5, 6, 5, 4, 5, 5, 2, 3, 1, 6, 3, 5, 3, 5, 4, 2, 1, 2, 3, 4, 5, 6, 1, 2, 3, 4, 5, 4, 4, 1, 4, 1, 1, 2, 5, 2, 3, 4, 5, 2, 5, 4, 4, 4, 1, 2, 4, 2, 2, 2, 3, 4, 5, 1, 2, 3, 5, 2, 3, 5, 6, 6, 1, 2, 3, 1, 3, 4, 4, 5, 1, 2, 4, 1, 1, 1, 3, 5, 6, 1, 2, 3, 4, 6, 5, 5, 4, 6, 3, 4, 5, 6, 3, 5, 1, 2, 3, 5, 6, 4, 1, 2, 3, 5, 6, 6, 1, 2, 3, 5, 6, 4, 3, 5, 3, 1, 2, 3, 1, 2, 3, 1, 1, 2, 3, 4, 5, 1, 2, 3, 4, 5, 1, 2, 3, 4, 5, 1, 2, 3, 4, 5, 1, 2, 4, 1, 2, 4, 2, 2, 1, 2, 3, 4, 5, 6, 2, 3, 3, 3], \"Freq\": [0.04195081454238601, 0.6817007363137726, 0.18877866544073701, 0.062926221813579, 0.020975407271193004, 0.9589400936808075, 0.9589400936610433, 0.9635259598542854, 0.8164214861104594, 0.17235564706776366, 0.9855697491045879, 0.5477400358804834, 0.13886367106829156, 0.3085859357073146, 0.9846921068489846, 0.9683396630462627, 0.6955875867160237, 0.08994667069603755, 0.2158720096704901, 0.790346110258344, 0.05488514654571833, 0.15367841032801133, 0.17965492307915645, 0.2577657592005288, 0.5233426020131949, 0.03905541806068619, 0.7288926087253069, 0.24679041082825354, 0.025826903458770718, 0.9665124003174094, 0.9377543372785306, 0.059226589722854564, 0.9637433582666449, 0.9929827608196764, 0.9054697715313713, 0.02624550062409772, 0.05249100124819544, 0.04519172157065864, 0.049300059895263974, 0.10270845811513328, 0.8011259732980396, 0.04534188429919133, 0.049463873780935995, 0.10304973704361667, 0.80378794894021, 0.9393236957014757, 0.05526231747053298, 0.1499977188485895, 0.03157846712601884, 0.7618305194152046, 0.11343307463600441, 0.02617686337753948, 0.8551108703329563, 0.9905371319396578, 0.2384336848988778, 0.7573775873258471, 0.9615371597163579, 0.9894440737504467, 0.11171176179919853, 0.8750754674270552, 0.05023222237892422, 0.16576633385044992, 0.26120755637040594, 0.0452090001410318, 0.47218289036188765, 0.9759959018224643, 0.9668631778398887, 0.9907779894641577, 0.9612815202966387, 0.0312028687058693, 0.9516874955290135, 0.9840623203227443, 0.43697647822012164, 0.03641470651834347, 0.11733627655910674, 0.2427647101222898, 0.16184314008152653, 0.6877264877993883, 0.19600204902282567, 0.07564991365793271, 0.037824956828966354, 0.8746336876218915, 0.04685537612260133, 0.062473834830135105, 0.9431391959338018, 0.9431391959324947, 0.985306167626373, 0.962631601710776, 0.9935791899865707, 0.9947723320962246, 0.9672580374950572, 0.7103107487431826, 0.11838512479053043, 0.15441538016156142, 0.010294358677437427, 0.9841113904371729, 0.9811583045696112, 0.04753603569951404, 0.1331008999586393, 0.7035333283528078, 0.1235936928187365, 0.9419322171506512, 0.038446212944924535, 0.019223106472462267, 0.9778182638949721, 0.9871598902943401, 0.9902970625953398, 0.08752958697323777, 0.8432016878421906, 0.0671060166794823, 0.9952490304353899, 0.0974708788261189, 0.038223874049458394, 0.1739186269250357, 0.16818504581761695, 0.18156340173492738, 0.34019247904017974, 0.03601399398599385, 0.16978025736254243, 0.2675325267530972, 0.046303706553420663, 0.4836164906690603, 0.9918717153782834, 0.20116500891241926, 0.022990286732847913, 0.12069900534745155, 0.31036887089344684, 0.33910672930950675, 0.9776750847663869, 0.22016259699024696, 0.20181571390772637, 0.21098915544898666, 0.3669376616504116, 0.044926570171208345, 0.6065086973113126, 0.32010181246985947, 0.028079106357005217, 0.09507864705347345, 0.8979649999494714, 0.9834094069048295, 0.16367474204541912, 0.8332532322312246, 0.984182490273716, 0.9931134723907429, 0.987766238478936, 0.8804664289278991, 0.12326530004990587, 0.9667969769219273, 0.9913043730803168, 0.9651601106388544, 0.023687160931974205, 0.6632405060952777, 0.2416090415061369, 0.06632405060952777, 0.02802017974118968, 0.09340059913729894, 0.8779656318906099, 0.02929843177727422, 0.937549816872775, 0.9821972781695929, 0.9876068967509809, 0.9821263460757991, 0.9928958913328941, 0.9340198146622958, 0.061104100024636177, 0.9714943815018454, 0.1159644809570786, 0.10704413626807255, 0.03568137875602419, 0.7493089538765079, 0.1018904188845529, 0.8915411652398378, 0.06048052263760503, 0.9223279702234767, 0.9649942561697524, 0.9878786517302593, 0.7216726879630714, 0.2236763301873847, 0.050643697400917294, 0.9855579915992627, 0.9945271316159175, 0.9894737862774066, 0.7513992052240784, 0.0966084692430958, 0.15027984104481568, 0.04166222124732465, 0.9211980031352895, 0.032403949859030286, 0.9776854354636869, 0.9926010286485473, 0.969781937672215, 0.9796391306768354, 0.9907960561242868, 0.988756501392426, 0.9867709988793711, 0.05423069553036391, 0.9399987225263077, 0.979768404780109, 0.1484947968555811, 0.5362312108673761, 0.17736878513305518, 0.0288739882774741, 0.10724624217347523, 0.6582802361372001, 0.18102706493773005, 0.016457005903430005, 0.14811305313087003, 0.9446360141013376, 0.5607541875971536, 0.1988128483298999, 0.08666201081046919, 0.15293296025376915, 0.9600253902485263, 0.3803260288815854, 0.4745661068345446, 0.1413601169294388, 0.9850797562854512, 0.9658390907033926, 0.9658396257581117, 0.9939101402282036, 0.9963559414367196, 0.2269327864733788, 0.7488781953621501, 0.9682120590075524, 0.03963178286647653, 0.6737403087301009, 0.2840277772097484, 0.9808017739786806, 0.01904469464036273, 0.9661491857755051, 0.6593970623182717, 0.2696056954306234, 0.016241306953652012, 0.051972182251686434, 0.9923220284547175, 0.9789047297526543, 0.23687841078506272, 0.18950272862805018, 0.03790054572561004, 0.5306076401585405, 0.26015417732369944, 0.7316836237229047, 0.9846517826923238, 0.9846517828150909, 0.9499511538957105, 0.9456477102185881, 0.048494754370184, 0.9889989956396839, 0.9484440721196354, 0.45970101150517456, 0.5403503117692402, 0.9829720075462521, 0.9682458274293428, 0.9656052265393781, 0.10702952967220875, 0.8270463656488858, 0.05837974345756841, 0.9856688899771263, 0.9681905901290326, 0.9911671236534354, 0.9922832917642376, 0.033009353344905464, 0.06931964202430146, 0.15514396072105566, 0.30698698610762076, 0.4357234641527521, 0.010643079902278823, 0.9898064309119305, 0.02587225896985837, 0.10348903587943348, 0.02587225896985837, 0.7071750785094622, 0.1466094674958641, 0.09958767918323803, 0.09958767918323803, 0.7967014334659043, 0.20655384455960635, 0.3229452966527179, 0.39999315930590434, 0.03934358943992502, 0.03278632453327085, 0.2503120410186602, 0.7446783220305142, 0.9843113429189669, 0.10257251104781516, 0.8889617624143981, 0.05548238418893084, 0.9432005312118242, 0.9603701743273106, 0.3230209769585657, 0.3118823225806841, 0.19307000921661396, 0.051980387096780684, 0.09653500460830698, 0.022277308755763153, 0.9687640456530865, 0.9205661933996763, 0.0563611955142659, 0.962505130507772, 0.9765073848576096, 0.9678339404716747, 0.9698240327868055, 0.9435214046901157, 0.9639393860062168, 0.12413435252359785, 0.28964682255506163, 0.5792936451101233, 0.9439518331451671, 0.05244176850806483, 0.8251581831031638, 0.01500287605642116, 0.1500287605642116, 0.985147812356633, 0.9798907891284403, 0.9659872856956828, 0.9900129014993568, 0.03162655167647541, 0.2038155552483971, 0.4462857847680419, 0.18273118746408015, 0.04568279686602004, 0.09136559373204008, 0.9842856881158033, 0.9775524584327644, 0.0633991539225579, 0.03169957696127895, 0.9034379433964501, 0.9725184012926705, 0.12575914388616075, 0.8663407689935518, 0.9866019505140177, 0.22940785200014335, 0.2357802923334807, 0.42695350233360013, 0.07009684366671047, 0.0382346420000239, 0.042300591870157035, 0.3579280850551749, 0.32538916823197717, 0.003253891682319772, 0.10737842551655247, 0.16594847579830838, 0.9682043042561052, 0.9745907080638875, 0.9616268501345757, 0.10197587128328564, 0.16995978547214274, 0.725161751347809, 0.9616309568333932, 0.647619217982057, 0.3487180404518769, 0.6580532826930584, 0.3381662702728217, 0.9535424261172144, 0.9792774577148632, 0.9766966713918475, 0.9766966714447807, 0.9811236050620502, 0.9811236056194783, 0.9875140006955186, 0.9657636491158158, 0.3775068605683992, 0.24733208106205465, 0.37316770125152104, 0.42533990062328797, 0.5638226589657538, 0.9915247372771221, 0.9710304790322699, 0.8731715145299124, 0.10691896096284642, 0.7833147390149358, 0.07401399108802542, 0.10485315404136936, 0.03700699554401271, 0.9577654624522107, 0.9855775617465944, 0.6856027775248931, 0.19492627988452843, 0.11426712958748218, 0.9844395627935691, 0.9903031017175885, 0.07690362014943021, 0.05126908009962013, 0.8715743616935423, 0.2473082985813566, 0.13395866173156817, 0.28852634834491603, 0.31943988566758563, 0.015456768661334788, 0.11499345060851494, 0.3134135222467368, 0.20292961872090873, 0.004509547082686861, 0.24351554246509047, 0.12175777123254523, 0.13080468003479612, 0.31590564234818685, 0.20484506496015242, 0.00493602566169042, 0.23446121893029492, 0.1036565388954988, 0.029195133967994617, 0.9634394209438224, 0.8544931217420947, 0.13034640840133646, 0.9721727167849087, 0.9739150949322957, 0.23876637069455037, 0.17907477802091276, 0.2846829804435024, 0.004591660974895199, 0.28927464141839754, 0.009183321949790399, 0.04042555059519066, 0.0673759176586511, 0.8893621130941946, 0.9719014366703433, 0.9914539090540511, 0.9828920833024973, 0.990069813058606, 0.9822876773579454, 0.2596924575121661, 0.07831994750366914, 0.27205876501274545, 0.3874776350181526, 0.0041221025001931125, 0.9944445842665409, 0.9922870794429852, 0.3472307552493174, 0.305714034512986, 0.08303344147266287, 0.2453260770783221, 0.018871236698332468, 0.03996533767859081, 0.9591681042861796, 0.2647228769570081, 0.05823903293054177, 0.47650117852261453, 0.20118938648732612, 0.9885154413163805, 0.9886716394381793, 0.9726517984353932, 0.20573599005012386, 0.06857866335004129, 0.7200759651754335, 0.9909368524468414, 0.9795773319385366, 0.9440161244688345, 0.06182094244964953, 0.16485584653239874, 0.16485584653239874, 0.07212443285792446, 0.5357815012302959, 0.07721551977991631, 0.9180067351612273, 0.9742672240679852, 0.16074573774366901, 0.06889103046157244, 0.7578013350772967, 0.9728223595801705, 0.9743745669423634, 0.7613164117447345, 0.12795233810835874, 0.07677140286501524, 0.025590467621671747, 0.2976770579475291, 0.6194900935664793, 0.08045325890473758, 0.09366340587974023, 0.8804360152695582, 0.982713628131188, 0.9732560554723291, 0.9732560554000402, 0.10797908159934401, 0.8638326527947521, 0.9615749360757089, 0.020032811168243934, 0.021920367866653107, 0.05114752502219058, 0.43475396268861993, 0.4932082769996949, 0.0036533946444421844, 0.9631185850815082, 0.9859204804853564, 0.9827313608268655, 0.9792436803881697, 0.9853447452640686, 0.9424232482742906, 0.10949643480882909, 0.8759714784706327, 0.17065314417782196, 0.8138842260788431, 0.08486048203560648, 0.9051784750464691, 0.9804154084037602, 0.9673741629680574, 0.35068124462077876, 0.29579200633230907, 0.12197608508548827, 0.05183983616133251, 0.10367967232266502, 0.07318565105129296, 0.08612782946232907, 0.16424376781188335, 0.010014863890968497, 0.7110553362587633, 0.02804161889471179, 0.9845203366637729, 0.9905601384242557, 0.02636387177421415, 0.9622813197588165, 0.9895448951919152, 0.29725939801741263, 0.1836013928931078, 0.5158324847949219, 0.04897876307547519, 0.06857026830566526, 0.8032517144377931, 0.07836602092076031, 0.8381649141421342, 0.1470464761652867, 0.9927442805505567, 0.9929050974240375, 0.9676410594185582, 0.02868989937032345, 0.784190582788841, 0.18170269601204853, 0.9873363534919825, 0.9756041071971259, 0.09739758999881579, 0.14235032384442306, 0.19479517999763157, 0.561909173070091, 0.19838008096226306, 0.033063346827043844, 0.18735896535324845, 0.5841191272777746, 0.014676239087230548, 0.2788485426573804, 0.7044594761870663, 0.9587366772900174, 0.9509753571458602, 0.7747144066980483, 0.1616795283543753, 0.06062982313289073, 0.9133598447072494, 0.0817934189290074, 0.9977706820981151, 0.9956944317669517, 0.9788778957208112, 0.1826049627482503, 0.04382519105958007, 0.7742450420525813, 0.9621827531582511, 0.9682560873535874, 0.542755517007091, 0.1628266551021273, 0.24966753782326184, 0.03799288619049637, 0.2241643991855982, 0.048281562901513454, 0.06207629515908873, 0.6655958314280069, 0.9717468068077849, 0.992760804039236, 0.9734794872116066, 0.983831751578423, 0.9776750847533875, 0.21989706860517852, 0.2015723128880803, 0.2107346907466294, 0.3664951143419642, 0.08313344650244223, 0.8867567626927171, 0.7042028257626827, 0.1942628484862573, 0.012141428030391081, 0.060707140151955406, 0.036424284091173244, 0.9876229279025098, 0.22496727251025933, 0.27495999973476143, 0.18211636346068613, 0.3070981815219413, 0.010712727262393302, 0.9859185030864425, 0.009814657418395429, 0.26008842158747886, 0.2846250651334674, 0.3386056809346423, 0.10796123160234972, 0.9832286781310988, 0.9252667452621449, 0.06476867216835014, 0.9658199131597701, 0.7954918636897619, 0.09178752273343406, 0.11218475000753052, 0.8403428039137509, 0.0896365657508001, 0.05602285359425006, 0.9706358133510664, 0.28313919038352253, 0.08276376334287582, 0.22215536476245615, 0.29620715301660816, 0.1176116636977709, 0.31165468728560647, 0.09672042019208477, 0.1773207703521554, 0.38150832409100105, 0.032240140064028255, 0.26958026868741575, 0.20915710501609844, 0.06971903500536615, 0.4415538883673189, 0.009295871334048819, 0.40894820723747655, 0.12333358630971514, 0.13631606907915883, 0.2369303105423475, 0.09412300007846681, 0.708114932755961, 0.20944244489965047, 0.0797875980570097, 0.7081149525689507, 0.2094424507598305, 0.07978760028945925, 0.982681627772295, 0.9814620365296093, 0.4522626620735832, 0.14564390812539119, 0.015330937697409598, 0.12648023600362918, 0.2146331277637344, 0.045992813092228794, 0.9764347103398962, 0.9635059761980567, 0.9635059762806083, 0.9810269914607795], \"Term\": [\"ange\", \"ange\", \"ange\", \"ange\", \"ange\", \"arbio\", \"arbio rice\", \"artichoke heart\", \"bacon\", \"bacon\", \"bacon onion\", \"basil\", \"basil\", \"basil\", \"basmati\", \"basmati rice\", \"bay\", \"bay\", \"bay\", \"bay leaves\", \"bay leaves\", \"bay leaves\", \"bean\", \"bean\", \"bean\", \"bean\", \"beef\", \"beef\", \"beef\", \"beef brisket\", \"beef broth\", \"beef broth\", \"beef ground\", \"beef stock\", \"beer\", \"beer\", \"beer\", \"bell\", \"bell\", \"bell\", \"bell\", \"bell pepper\", \"bell pepper\", \"bell pepper\", \"bell pepper\", \"boiling water\", \"boneless\", \"boneless\", \"boneless\", \"boneless\", \"boneless chicken\", \"boneless chicken\", \"boneless chicken\", \"brat\", \"bread\", \"bread\", \"bread crumb\", \"bread crumbs\", \"breadcrumbs\", \"breadcrumbs\", \"breast\", \"breast\", \"breast\", \"breast\", \"breast\", \"breast halves\", \"breast salt\", \"breasts\", \"brisket\", \"broccoli\", \"broccoli\", \"broccoli flet\", \"broth\", \"broth\", \"broth\", \"broth\", \"broth\", \"butter\", \"butter\", \"butter\", \"butter\", \"butter onion\", \"butter onion\", \"butter onion\", \"butternut\", \"butternut squash\", \"button\", \"button mushroom\", \"caraway\", \"caraway seed\", \"cardamom\", \"carrot\", \"carrot\", \"carrot\", \"carrot\", \"carrot celery\", \"carrot onion\", \"cayenne\", \"cayenne\", \"cayenne\", \"cayenne\", \"celery\", \"celery\", \"celery\", \"celery ribs\", \"cheddar\", \"cheddar cheese\", \"cheese\", \"cheese\", \"cheese\", \"cheese crumbles\", \"chicken\", \"chicken\", \"chicken\", \"chicken\", \"chicken\", \"chicken\", \"chicken breast\", \"chicken breast\", \"chicken breast\", \"chicken breast\", \"chicken breast\", \"chicken breasts\", \"chicken broth\", \"chicken broth\", \"chicken broth\", \"chicken broth\", \"chicken broth\", \"chicken thigh\", \"chicken thighs\", \"chicken thighs\", \"chicken thighs\", \"chicken thighs\", \"chili\", \"chili\", \"chili\", \"chili\", \"chili powder\", \"chili powder\", \"chili sauce\", \"chilie\", \"chilie\", \"chinese\", \"chizo\", \"chizo sausage\", \"chuck\", \"chuck\", \"chuck roast\", \"cier\", \"cier ground\", \"cilantro\", \"cilantro\", \"cilantro\", \"cilantro\", \"cinnamon\", \"cinnamon\", \"cinnamon\", \"cinnamon ground\", \"cinnamon ground\", \"clam\", \"coarse\", \"coarse salt\", \"coconut\", \"coconut milk\", \"coconut milk\", \"coconut oil\", \"cooked\", \"cooked\", \"cooked\", \"cooked\", \"cooked chicken\", \"cooked chicken\", \"cooked rice\", \"cooked rice\", \"cracked\", \"cracked pepper\", \"cream\", \"cream\", \"cream\", \"crumb\", \"crumbles\", \"crumbs\", \"cucumber\", \"cucumber\", \"cucumber\", \"cumin\", \"cumin\", \"cumin\", \"cumin chili\", \"cumin ground\", \"cumin salt\", \"cumin seed\", \"curry\", \"curry paste\", \"curry powder\", \"dark\", \"dark\", \"dark soy\", \"dried\", \"dried\", \"dried\", \"dried\", \"dried\", \"dried egano\", \"dried egano\", \"dried egano\", \"dried egano\", \"drumstick\", \"egano\", \"egano\", \"egano\", \"egano\", \"egano ground\", \"egg\", \"egg\", \"egg\", \"egg noodle\", \"enchilada\", \"enchilada sauce\", \"feta\", \"feta cheese\", \"finely\", \"finely\", \"finely onion\", \"fish\", \"fish\", \"fish\", \"fish sauce\", \"fish sauce\", \"flet\", \"flour\", \"flour\", \"flour\", \"flour\", \"flour beef\", \"flour ttillas\", \"fren\", \"fren\", \"fren\", \"fren\", \"fren peas\", \"fren peas\", \"garam\", \"garam masala\", \"garlic bell\", \"garlic chili\", \"garlic chili\", \"garlic dried\", \"ghee\", \"ginger\", \"ginger\", \"ginger root\", \"gold potatoes\", \"grain rice\", \"grated\", \"grated\", \"grated\", \"grated parmesan\", \"gravy\", \"greek\", \"greek yogurt\", \"green\", \"green\", \"green\", \"green\", \"green\", \"green bell\", \"green bell\", \"green onion\", \"green onion\", \"green onion\", \"green onion\", \"green onion\", \"green pepper\", \"green pepper\", \"green pepper\", \"ground\", \"ground\", \"ground\", \"ground\", \"ground\", \"ground beef\", \"ground beef\", \"ground cier\", \"ground cinnamon\", \"ground cinnamon\", \"ground cumin\", \"ground cumin\", \"ground lamb\", \"ground pepper\", \"ground pepper\", \"ground pepper\", \"ground pepper\", \"ground pepper\", \"ground pepper\", \"ground turkey\", \"ground turmeric\", \"ground turmeric\", \"half\", \"halve\", \"halves\", \"hamburger\", \"heart\", \"hoisin sauce\", \"honey\", \"honey\", \"honey\", \"hungarian paprika\", \"hungarian paprika\", \"italian\", \"italian\", \"italian\", \"jalapeno\", \"jalapeno chilie\", \"jasmine\", \"jasmine rice\", \"juice\", \"juice\", \"juice\", \"juice\", \"juice\", \"juice\", \"juice garlic\", \"juice lime\", \"kalamata\", \"kalamata\", \"kalamata\", \"kidney\", \"lean\", \"lean\", \"lean ground\", \"leave\", \"leave\", \"leave\", \"leave\", \"leave\", \"lemon\", \"lemon\", \"lemon\", \"lemon\", \"lemon\", \"lemon\", \"lemon zest\", \"lemongrass\", \"less\", \"light\", \"light\", \"light\", \"light soy\", \"lime\", \"lime\", \"lime juice\", \"lime juice\", \"long\", \"long grain\", \"longgrain\", \"longgrain rice\", \"marinara\", \"marinara sauce\", \"masala\", \"mashed\", \"milk\", \"milk\", \"milk\", \"minced garlic\", \"minced garlic\", \"mirin\", \"miso\", \"mix\", \"mix\", \"mushroom\", \"mushroom\", \"mushroom\", \"mushroom\", \"mushroom soup\", \"mussel\", \"mustard\", \"mustard\", \"mustard\", \"mzarella\", \"mzarella cheese\", \"oil boneless\", \"oil boneless\", \"oil boneless\", \"oil onion\", \"oil onion\", \"oil onion\", \"oil onion\", \"oil onion\", \"olive\", \"olive\", \"olive\", \"olive\", \"olive\", \"olive\", \"olive oil\", \"olive oil\", \"olive oil\", \"olive oil\", \"olive oil\", \"olive oil\", \"onion bell\", \"onion bell\", \"onion carrot\", \"onion carrot\", \"onion celery\", \"onion egg\", \"onion garlic\", \"onion garlic\", \"onion garlic\", \"onion garlic\", \"onion garlic\", \"onion garlic\", \"onion green\", \"onion green\", \"onion green\", \"onion mushroom\", \"oyster\", \"oyster sauce\", \"panko\", \"panko breadcrumbs\", \"paprika\", \"paprika\", \"paprika\", \"paprika\", \"paprika\", \"parmesan\", \"parmesan cheese\", \"parsley\", \"parsley\", \"parsley\", \"parsley\", \"parsley\", \"pasta\", \"pasta\", \"paste\", \"paste\", \"paste\", \"paste\", \"pastry\", \"peanut\", \"peanut oil\", \"peas\", \"peas\", \"peas\", \"pepper bell\", \"pepper boneless\", \"pepper feta\", \"pepper garlic\", \"pepper garlic\", \"pepper garlic\", \"pepper garlic\", \"pepper garlic\", \"pineapple\", \"pineapple\", \"pineapple juice\", \"pitted\", \"pitted\", \"pitted\", \"pitted kalamata\", \"plain greek\", \"potato\", \"potato\", \"potato\", \"potato\", \"powder\", \"powder\", \"powder\", \"powder ground\", \"powder ground\", \"powder pepper\", \"puff\", \"puff pastry\", \"pur\", \"pur\", \"ribs\", \"ribs\", \"rice\", \"rice\", \"rice\", \"rice\", \"rice\", \"rice chicken\", \"rice vinegar\", \"rice water\", \"rice wine\", \"ricotta\", \"roma\", \"root\", \"root\", \"saffron\", \"saffron\", \"saffron thread\", \"saffron thread\", \"sake\", \"salt egg\", \"salt pepper\", \"salt pepper\", \"salt pepper\", \"salt pepper\", \"salt pepper\", \"salt pepper\", \"sauce\", \"sauce\", \"sauce\", \"sauce\", \"sauce\", \"sauce rice\", \"sauce soy\", \"sauce sugar\", \"sauce sugar\", \"sauerkraut\", \"sausage\", \"sausage\", \"sausage\", \"scallion\", \"scallion\", \"scallion\", \"scallion\", \"seasoning\", \"seasoning\", \"sesame\", \"sesame oil\", \"sesame seed\", \"shded\", \"shded\", \"shded\", \"shded cheddar\", \"shded mzarella\", \"shrimp\", \"shrimp\", \"shrimp\", \"shrimp\", \"smoked\", \"smoked\", \"smoked\", \"smoked\", \"smoked paprika\", \"smoked paprika\", \"smoked paprika\", \"sodium\", \"sodium chicken\", \"sour\", \"sour\", \"sour\", \"sour cream\", \"sour cream\", \"soy\", \"soy sauce\", \"spanish\", \"starch\", \"starch\", \"starch\", \"stew\", \"stew meat\", \"stock\", \"stock\", \"stock\", \"stock\", \"sugar\", \"sugar\", \"sugar\", \"sugar\", \"sugar starch\", \"taco\", \"taco seasone\", \"thai\", \"thigh\", \"thighs\", \"thighs\", \"thighs\", \"thighs\", \"thread\", \"thread\", \"thyme\", \"thyme\", \"thyme\", \"thyme\", \"thyme\", \"toasted sesame\", \"tomato\", \"tomato\", \"tomato\", \"tomato\", \"tomato\", \"tomato pur\", \"tomatoe\", \"tomatoe\", \"tomatoe\", \"tomatoe\", \"tomatoe\", \"ttillas\", \"turmeric\", \"turmeric\", \"turmeric ground\", \"unsalted\", \"unsalted\", \"unsalted\", \"unsalted butter\", \"unsalted butter\", \"unsalted butter\", \"veal\", \"vegetable\", \"vegetable\", \"vegetable\", \"vegetable\", \"vegetable\", \"vegetable oil\", \"vegetable oil\", \"vegetable oil\", \"vegetable oil\", \"vegetable oil\", \"vinegar\", \"vinegar\", \"vinegar\", \"vinegar\", \"vinegar\", \"water\", \"water\", \"water\", \"water\", \"water\", \"wcestershire\", \"wcestershire\", \"wcestershire\", \"wcestershire sauce\", \"wcestershire sauce\", \"wcestershire sauce\", \"wheat\", \"whole wheat\", \"wine\", \"wine\", \"wine\", \"wine\", \"wine\", \"wine\", \"yolks\", \"yukon\", \"yukon gold\", \"zest\"]}, \"R\": 30, \"lambda.step\": 0.01, \"plot.opts\": {\"xlab\": \"PC1\", \"ylab\": \"PC2\"}, \"topic.order\": [1, 6, 5, 3, 2, 4]};\n",
       "\n",
       "function LDAvis_load_lib(url, callback){\n",
       "  var s = document.createElement('script');\n",
       "  s.src = url;\n",
       "  s.async = true;\n",
       "  s.onreadystatechange = s.onload = callback;\n",
       "  s.onerror = function(){console.warn(\"failed to load library \" + url);};\n",
       "  document.getElementsByTagName(\"head\")[0].appendChild(s);\n",
       "}\n",
       "\n",
       "if(typeof(LDAvis) !== \"undefined\"){\n",
       "   // already loaded: just create the visualization\n",
       "   !function(LDAvis){\n",
       "       new LDAvis(\"#\" + \"ldavis_el1841047772676325098165618\", ldavis_el1841047772676325098165618_data);\n",
       "   }(LDAvis);\n",
       "}else if(typeof define === \"function\" && define.amd){\n",
       "   // require.js is available: use it to load d3/LDAvis\n",
       "   require.config({paths: {d3: \"https://cdnjs.cloudflare.com/ajax/libs/d3/3.5.5/d3.min\"}});\n",
       "   require([\"d3\"], function(d3){\n",
       "      window.d3 = d3;\n",
       "      LDAvis_load_lib(\"https://cdn.rawgit.com/bmabey/pyLDAvis/files/ldavis.v1.0.0.js\", function(){\n",
       "        new LDAvis(\"#\" + \"ldavis_el1841047772676325098165618\", ldavis_el1841047772676325098165618_data);\n",
       "      });\n",
       "    });\n",
       "}else{\n",
       "    // require.js not available: dynamically load d3 & LDAvis\n",
       "    LDAvis_load_lib(\"https://cdnjs.cloudflare.com/ajax/libs/d3/3.5.5/d3.min.js\", function(){\n",
       "         LDAvis_load_lib(\"https://cdn.rawgit.com/bmabey/pyLDAvis/files/ldavis.v1.0.0.js\", function(){\n",
       "                 new LDAvis(\"#\" + \"ldavis_el1841047772676325098165618\", ldavis_el1841047772676325098165618_data);\n",
       "            })\n",
       "         });\n",
       "}\n",
       "</script>"
      ],
      "text/plain": [
       "PreparedData(topic_coordinates=               x          y  topics  cluster       Freq\n",
       "topic                                                  \n",
       "0      34.564354 -88.008820       1        1  22.876793\n",
       "5      30.984182  52.845257       2        1  20.945686\n",
       "4      83.942497 -16.281210       3        1  19.349919\n",
       "2       9.891083 -18.163404       4        1  16.248491\n",
       "1     -51.124065  23.840168       5        1  12.940776\n",
       "3     -48.911373 -63.212482       6        1   7.638336, topic_info=    Category        Freq              Term       Total  loglift  logprob\n",
       "55   Default  229.000000  boneless chicken  229.000000  30.0000  30.0000\n",
       "54   Default  253.000000          boneless  253.000000  29.0000  29.0000\n",
       "858  Default  263.000000               soy  263.000000  28.0000  28.0000\n",
       "784  Default  499.000000             sauce  499.000000  27.0000  27.0000\n",
       "859  Default  261.000000         soy sauce  261.000000  26.0000  26.0000\n",
       "129  Default  523.000000           chicken  523.000000  25.0000  25.0000\n",
       "276  Default  155.000000              feta  155.000000  24.0000  24.0000\n",
       "277  Default  155.000000       feta cheese  155.000000  23.0000  23.0000\n",
       "119  Default  342.000000            cheese  342.000000  22.0000  22.0000\n",
       "48   Default  243.000000              bell  243.000000  21.0000  21.0000\n",
       "49   Default  242.000000       bell pepper  242.000000  20.0000  20.0000\n",
       "68   Default  125.000000           breasts  125.000000  19.0000  19.0000\n",
       "131  Default  125.000000   chicken breasts  125.000000  18.0000  18.0000\n",
       "734  Default  273.000000              rice  273.000000  17.0000  17.0000\n",
       "216  Default  216.000000             cumin  216.000000  16.0000  16.0000\n",
       "823  Default  154.000000            sesame  154.000000  15.0000  15.0000\n",
       "37   Default  348.000000              beef  348.000000  14.0000  14.0000\n",
       "185  Default  169.000000           coconut  169.000000  13.0000  13.0000\n",
       "888  Default  289.000000             sugar  289.000000  12.0000  12.0000\n",
       "349  Default  247.000000            ginger  247.000000  11.0000  11.0000\n",
       "130  Default  194.000000    chicken breast  194.000000  10.0000  10.0000\n",
       "63   Default  199.000000            breast  199.000000   9.0000   9.0000\n",
       "207  Default   83.000000          crumbles   83.000000   8.0000   8.0000\n",
       "376  Default  302.000000             green  302.000000   7.0000   7.0000\n",
       "120  Default   82.000000   cheese crumbles   82.000000   6.0000   6.0000\n",
       "484  Default  200.000000              lime  200.000000   5.0000   5.0000\n",
       "395  Default  144.000000      ground cumin  144.000000   4.0000   4.0000\n",
       "169  Default  126.000000              cier  126.000000   3.0000   3.0000\n",
       "824  Default  111.000000        sesame oil  111.000000   2.0000   2.0000\n",
       "299  Default  307.000000             flour  307.000000   1.0000   1.0000\n",
       "..       ...         ...               ...         ...      ...      ...\n",
       "206   Topic6   28.596967             crumb   29.424955   2.5434  -4.9391\n",
       "853   Topic6   28.378092            sodium   29.205099   2.5433  -4.9468\n",
       "67    Topic6   28.131208       breast salt   28.959630   2.5430  -4.9555\n",
       "59    Topic6   26.212540       bread crumb   27.040037   2.5409  -5.0262\n",
       "501   Topic6   24.652853          marinara   25.480989   2.5390  -5.0875\n",
       "502   Topic6   24.652853    marinara sauce   25.480989   2.5390  -5.0875\n",
       "698   Topic6   23.844846   pitted kalamata   24.670486   2.5380  -5.1208\n",
       "657   Topic6   22.478644       pepper feta   23.304687   2.5359  -5.1798\n",
       "894   Topic6   22.828367      sugar starch   23.668717   2.5358  -5.1644\n",
       "245   Topic6   22.461460         drumstick   23.289394   2.5358  -5.1806\n",
       "854   Topic6   22.308487    sodium chicken   23.134143   2.5356  -5.1874\n",
       "477   Topic6   22.052322              less   22.877897   2.5352  -5.1990\n",
       "55    Topic6  196.287691  boneless chicken  229.210044   2.4169  -3.0128\n",
       "448   Topic6   56.835008          kalamata   63.092325   2.4675  -4.2523\n",
       "54    Topic6  192.628771          boneless  253.337186   2.2980  -3.0316\n",
       "749   Topic6   47.759701              root   54.796305   2.4345  -4.4262\n",
       "729   Topic6   32.451660               pur   37.044212   2.4396  -4.8127\n",
       "549   Topic6   33.689198      oil boneless   39.009867   2.4254  -4.7752\n",
       "130   Topic6   93.558406    chicken breast  194.368889   1.8408  -3.7538\n",
       "129   Topic6  177.888336           chicken  523.233202   1.4931  -3.1113\n",
       "63    Topic6   93.670851            breast  199.075405   1.8181  -3.7526\n",
       "132   Topic6   59.355187     chicken broth  173.986521   1.4966  -4.2089\n",
       "697   Topic6   33.206746            pitted   43.547033   2.3009  -4.7897\n",
       "283   Topic6   33.206330            finely   44.065911   2.2890  -4.7897\n",
       "139   Topic6   40.392166    chicken thighs  109.010342   1.5792  -4.5938\n",
       "917   Topic6   40.342886            thighs  109.141973   1.5768  -4.5950\n",
       "469   Topic6   51.391234             lemon  307.324305   0.7836  -4.3529\n",
       "578   Topic6   53.811332             olive  443.503519   0.4628  -4.3069\n",
       "579   Topic6   42.491282         olive oil  405.184279   0.3169  -4.5431\n",
       "72    Topic6   40.144778             broth  247.152891   0.7545  -4.5999\n",
       "\n",
       "[377 rows x 6 columns], token_table=      Topic      Freq                Term\n",
       "term                                     \n",
       "3         2  0.041951                ange\n",
       "3         3  0.681701                ange\n",
       "3         4  0.188779                ange\n",
       "3         5  0.062926                ange\n",
       "3         6  0.020975                ange\n",
       "8         5  0.958940               arbio\n",
       "9         5  0.958940          arbio rice\n",
       "11        5  0.963526     artichoke heart\n",
       "17        1  0.816421               bacon\n",
       "17        2  0.172356               bacon\n",
       "18        1  0.985570         bacon onion\n",
       "26        2  0.547740               basil\n",
       "26        3  0.138864               basil\n",
       "26        4  0.308586               basil\n",
       "28        5  0.984692             basmati\n",
       "29        5  0.968340        basmati rice\n",
       "30        1  0.695588                 bay\n",
       "30        3  0.089947                 bay\n",
       "30        5  0.215872                 bay\n",
       "33        1  0.790346          bay leaves\n",
       "33        3  0.054885          bay leaves\n",
       "33        5  0.153678          bay leaves\n",
       "34        2  0.179655                bean\n",
       "34        3  0.257766                bean\n",
       "34        5  0.523343                bean\n",
       "34        6  0.039055                bean\n",
       "37        1  0.728893                beef\n",
       "37        2  0.246790                beef\n",
       "37        4  0.025827                beef\n",
       "38        1  0.966512        beef brisket\n",
       "...     ...       ...                 ...\n",
       "959       4  0.381508       vegetable oil\n",
       "959       5  0.032240       vegetable oil\n",
       "961       1  0.269580             vinegar\n",
       "961       2  0.209157             vinegar\n",
       "961       3  0.069719             vinegar\n",
       "961       4  0.441554             vinegar\n",
       "961       5  0.009296             vinegar\n",
       "970       1  0.408948               water\n",
       "970       2  0.123334               water\n",
       "970       3  0.136316               water\n",
       "970       4  0.236930               water\n",
       "970       5  0.094123               water\n",
       "975       1  0.708115        wcestershire\n",
       "975       2  0.209442        wcestershire\n",
       "975       4  0.079788        wcestershire\n",
       "976       1  0.708115  wcestershire sauce\n",
       "976       2  0.209442  wcestershire sauce\n",
       "976       4  0.079788  wcestershire sauce\n",
       "979       2  0.982682               wheat\n",
       "985       2  0.981462         whole wheat\n",
       "987       1  0.452263                wine\n",
       "987       2  0.145644                wine\n",
       "987       3  0.015331                wine\n",
       "987       4  0.126480                wine\n",
       "987       5  0.214633                wine\n",
       "987       6  0.045993                wine\n",
       "997       2  0.976435               yolks\n",
       "998       3  0.963506               yukon\n",
       "999       3  0.963506          yukon gold\n",
       "1000      3  0.981027                zest\n",
       "\n",
       "[640 rows x 3 columns], R=30, lambda_step=0.01, plot_opts={'xlab': 'PC1', 'ylab': 'PC2'}, topic_order=[1, 6, 5, 3, 2, 4])"
      ]
     },
     "execution_count": 58,
     "metadata": {},
     "output_type": "execute_result"
    }
   ],
   "source": [
    "pyLDAvis.enable_notebook()\n",
    "\n",
    "panel = pyLDAvis.sklearn.prepare(lda_model, data_vectorized, vectorizer, mds='tsne')\n",
    "panel"
   ]
  },
  {
   "cell_type": "code",
   "execution_count": 59,
   "metadata": {
    "ExecuteTime": {
     "end_time": "2019-09-12T03:44:48.144963Z",
     "start_time": "2019-09-12T03:44:48.141976Z"
    }
   },
   "outputs": [],
   "source": [
    "#not getting as much signal as I would like from LDA, will need to try other methods\n"
   ]
  },
  {
   "cell_type": "markdown",
   "metadata": {},
   "source": [
    "# 2. NMF"
   ]
  },
  {
   "cell_type": "code",
   "execution_count": 60,
   "metadata": {
    "ExecuteTime": {
     "end_time": "2019-09-12T03:44:48.513365Z",
     "start_time": "2019-09-12T03:44:48.227410Z"
    }
   },
   "outputs": [],
   "source": [
    "#try using NMF Model\n",
    "\n",
    "nmf_model = NMF(5)\n",
    "\n",
    "doc_topic = nmf_model.fit_transform(data_vectorized)"
   ]
  },
  {
   "cell_type": "code",
   "execution_count": 61,
   "metadata": {
    "ExecuteTime": {
     "end_time": "2019-09-12T03:44:48.588138Z",
     "start_time": "2019-09-12T03:44:48.584012Z"
    }
   },
   "outputs": [],
   "source": [
    "#function for showing top words and topics\n",
    "def display_topics(model, feature_names, no_top_words, topic_names=None):\n",
    "    for ix, topic in enumerate(model.components_):\n",
    "        if not topic_names or not topic_names[ix]:\n",
    "            print(\"\\nTopic \", ix)\n",
    "        else:\n",
    "            print(\"\\nTopic: '\",topic_names[ix],\"'\")\n",
    "        print(\", \".join([feature_names[i]\n",
    "                        for i in topic.argsort()[:-no_top_words - 1:-1]]))"
   ]
  },
  {
   "cell_type": "code",
   "execution_count": null,
   "metadata": {},
   "outputs": [],
   "source": []
  },
  {
   "cell_type": "code",
   "execution_count": 62,
   "metadata": {
    "ExecuteTime": {
     "end_time": "2019-09-12T03:44:48.675516Z",
     "start_time": "2019-09-12T03:44:48.670138Z"
    }
   },
   "outputs": [
    {
     "name": "stdout",
     "output_type": "stream",
     "text": [
      "\n",
      "Topic  0\n",
      "olive, chicken, olive oil, lemon, bell, bell pepper, parsley, wine, paprika, dried\n",
      "\n",
      "Topic  1\n",
      "sauce, soy, soy sauce, sugar, sesame, ginger, rice, sesame oil, chicken, starch\n",
      "\n",
      "Topic  2\n",
      "beef, flour, ground, butter, egg, cream, ground beef, carrot, beef broth, bread\n",
      "\n",
      "Topic  3\n",
      "ground, cumin, ground cumin, cier, powder, turmeric, cilantro, ginger, cinnamon, ground cier\n",
      "\n",
      "Topic  4\n",
      "cheese, parmesan, parmesan cheese, grated, grated parmesan, mzarella, shded, mzarella cheese, pasta, cheddar cheese\n"
     ]
    }
   ],
   "source": [
    "display_topics(nmf_model, vectorizer.get_feature_names(), 10)"
   ]
  },
  {
   "cell_type": "code",
   "execution_count": 63,
   "metadata": {
    "ExecuteTime": {
     "end_time": "2019-09-12T03:44:48.784187Z",
     "start_time": "2019-09-12T03:44:48.764383Z"
    }
   },
   "outputs": [
    {
     "data": {
      "text/html": [
       "<div>\n",
       "<style scoped>\n",
       "    .dataframe tbody tr th:only-of-type {\n",
       "        vertical-align: middle;\n",
       "    }\n",
       "\n",
       "    .dataframe tbody tr th {\n",
       "        vertical-align: top;\n",
       "    }\n",
       "\n",
       "    .dataframe thead th {\n",
       "        text-align: right;\n",
       "    }\n",
       "</style>\n",
       "<table border=\"1\" class=\"dataframe\">\n",
       "  <thead>\n",
       "    <tr style=\"text-align: right;\">\n",
       "      <th></th>\n",
       "      <th>allspice</th>\n",
       "      <th>allspice ground</th>\n",
       "      <th>almond</th>\n",
       "      <th>ange</th>\n",
       "      <th>ange juice</th>\n",
       "      <th>apple</th>\n",
       "      <th>apple cider</th>\n",
       "      <th>apricot</th>\n",
       "      <th>arbio</th>\n",
       "      <th>arbio rice</th>\n",
       "      <th>...</th>\n",
       "      <th>wine water</th>\n",
       "      <th>yeast</th>\n",
       "      <th>yogurt</th>\n",
       "      <th>yogurt lemon</th>\n",
       "      <th>yolk</th>\n",
       "      <th>yolks</th>\n",
       "      <th>yukon</th>\n",
       "      <th>yukon gold</th>\n",
       "      <th>zest</th>\n",
       "      <th>zucchini</th>\n",
       "    </tr>\n",
       "  </thead>\n",
       "  <tbody>\n",
       "    <tr>\n",
       "      <th>component_1</th>\n",
       "      <td>0.000</td>\n",
       "      <td>0.000</td>\n",
       "      <td>0.085</td>\n",
       "      <td>0.208</td>\n",
       "      <td>0.095</td>\n",
       "      <td>0.045</td>\n",
       "      <td>0.030</td>\n",
       "      <td>0.029</td>\n",
       "      <td>0.162</td>\n",
       "      <td>0.162</td>\n",
       "      <td>...</td>\n",
       "      <td>0.030</td>\n",
       "      <td>0.014</td>\n",
       "      <td>0.167</td>\n",
       "      <td>0.038</td>\n",
       "      <td>0.000</td>\n",
       "      <td>0.000</td>\n",
       "      <td>0.034</td>\n",
       "      <td>0.034</td>\n",
       "      <td>0.129</td>\n",
       "      <td>0.193</td>\n",
       "    </tr>\n",
       "    <tr>\n",
       "      <th>component_2</th>\n",
       "      <td>0.000</td>\n",
       "      <td>0.000</td>\n",
       "      <td>0.003</td>\n",
       "      <td>0.076</td>\n",
       "      <td>0.033</td>\n",
       "      <td>0.056</td>\n",
       "      <td>0.049</td>\n",
       "      <td>0.000</td>\n",
       "      <td>0.000</td>\n",
       "      <td>0.000</td>\n",
       "      <td>...</td>\n",
       "      <td>0.014</td>\n",
       "      <td>0.004</td>\n",
       "      <td>0.000</td>\n",
       "      <td>0.000</td>\n",
       "      <td>0.000</td>\n",
       "      <td>0.000</td>\n",
       "      <td>0.000</td>\n",
       "      <td>0.000</td>\n",
       "      <td>0.013</td>\n",
       "      <td>0.023</td>\n",
       "    </tr>\n",
       "    <tr>\n",
       "      <th>component_3</th>\n",
       "      <td>0.294</td>\n",
       "      <td>0.071</td>\n",
       "      <td>0.004</td>\n",
       "      <td>0.000</td>\n",
       "      <td>0.000</td>\n",
       "      <td>0.120</td>\n",
       "      <td>0.040</td>\n",
       "      <td>0.000</td>\n",
       "      <td>0.000</td>\n",
       "      <td>0.000</td>\n",
       "      <td>...</td>\n",
       "      <td>0.026</td>\n",
       "      <td>0.028</td>\n",
       "      <td>0.000</td>\n",
       "      <td>0.000</td>\n",
       "      <td>0.061</td>\n",
       "      <td>0.109</td>\n",
       "      <td>0.058</td>\n",
       "      <td>0.058</td>\n",
       "      <td>0.000</td>\n",
       "      <td>0.000</td>\n",
       "    </tr>\n",
       "    <tr>\n",
       "      <th>component_4</th>\n",
       "      <td>0.079</td>\n",
       "      <td>0.037</td>\n",
       "      <td>0.085</td>\n",
       "      <td>0.162</td>\n",
       "      <td>0.115</td>\n",
       "      <td>0.011</td>\n",
       "      <td>0.002</td>\n",
       "      <td>0.111</td>\n",
       "      <td>0.000</td>\n",
       "      <td>0.000</td>\n",
       "      <td>...</td>\n",
       "      <td>0.000</td>\n",
       "      <td>0.000</td>\n",
       "      <td>0.254</td>\n",
       "      <td>0.041</td>\n",
       "      <td>0.000</td>\n",
       "      <td>0.000</td>\n",
       "      <td>0.004</td>\n",
       "      <td>0.004</td>\n",
       "      <td>0.060</td>\n",
       "      <td>0.026</td>\n",
       "    </tr>\n",
       "    <tr>\n",
       "      <th>component_5</th>\n",
       "      <td>0.000</td>\n",
       "      <td>0.000</td>\n",
       "      <td>0.009</td>\n",
       "      <td>0.000</td>\n",
       "      <td>0.000</td>\n",
       "      <td>0.000</td>\n",
       "      <td>0.000</td>\n",
       "      <td>0.000</td>\n",
       "      <td>0.000</td>\n",
       "      <td>0.000</td>\n",
       "      <td>...</td>\n",
       "      <td>0.000</td>\n",
       "      <td>0.028</td>\n",
       "      <td>0.055</td>\n",
       "      <td>0.011</td>\n",
       "      <td>0.033</td>\n",
       "      <td>0.012</td>\n",
       "      <td>0.000</td>\n",
       "      <td>0.000</td>\n",
       "      <td>0.005</td>\n",
       "      <td>0.087</td>\n",
       "    </tr>\n",
       "  </tbody>\n",
       "</table>\n",
       "<p>5 rows × 1002 columns</p>\n",
       "</div>"
      ],
      "text/plain": [
       "             allspice  allspice ground  almond   ange  ange juice  apple  \\\n",
       "component_1     0.000            0.000   0.085  0.208       0.095  0.045   \n",
       "component_2     0.000            0.000   0.003  0.076       0.033  0.056   \n",
       "component_3     0.294            0.071   0.004  0.000       0.000  0.120   \n",
       "component_4     0.079            0.037   0.085  0.162       0.115  0.011   \n",
       "component_5     0.000            0.000   0.009  0.000       0.000  0.000   \n",
       "\n",
       "             apple cider  apricot  arbio  arbio rice  ...  wine water  yeast  \\\n",
       "component_1        0.030    0.029  0.162       0.162  ...       0.030  0.014   \n",
       "component_2        0.049    0.000  0.000       0.000  ...       0.014  0.004   \n",
       "component_3        0.040    0.000  0.000       0.000  ...       0.026  0.028   \n",
       "component_4        0.002    0.111  0.000       0.000  ...       0.000  0.000   \n",
       "component_5        0.000    0.000  0.000       0.000  ...       0.000  0.028   \n",
       "\n",
       "             yogurt  yogurt lemon   yolk  yolks  yukon  yukon gold   zest  \\\n",
       "component_1   0.167         0.038  0.000  0.000  0.034       0.034  0.129   \n",
       "component_2   0.000         0.000  0.000  0.000  0.000       0.000  0.013   \n",
       "component_3   0.000         0.000  0.061  0.109  0.058       0.058  0.000   \n",
       "component_4   0.254         0.041  0.000  0.000  0.004       0.004  0.060   \n",
       "component_5   0.055         0.011  0.033  0.012  0.000       0.000  0.005   \n",
       "\n",
       "             zucchini  \n",
       "component_1     0.193  \n",
       "component_2     0.023  \n",
       "component_3     0.000  \n",
       "component_4     0.026  \n",
       "component_5     0.087  \n",
       "\n",
       "[5 rows x 1002 columns]"
      ]
     },
     "execution_count": 63,
     "metadata": {},
     "output_type": "execute_result"
    }
   ],
   "source": [
    "topic_word = pd.DataFrame(nmf_model.components_.round(3), index = ['component_1','component_2','component_3','component_4','component_5'], \n",
    "                          columns = vectorizer.get_feature_names())\n",
    "topic_word"
   ]
  },
  {
   "cell_type": "code",
   "execution_count": null,
   "metadata": {},
   "outputs": [],
   "source": []
  },
  {
   "cell_type": "markdown",
   "metadata": {},
   "source": [
    "# 3. Kmeans\n"
   ]
  },
  {
   "cell_type": "code",
   "execution_count": 64,
   "metadata": {
    "ExecuteTime": {
     "end_time": "2019-09-12T03:45:46.166570Z",
     "start_time": "2019-09-12T03:44:48.900929Z"
    }
   },
   "outputs": [],
   "source": [
    "km = KMeans(n_clusters=5, random_state=1)\n",
    "km.fit(data_vectorized)\n",
    "predict=km.predict(data_vectorized)"
   ]
  },
  {
   "cell_type": "code",
   "execution_count": 65,
   "metadata": {
    "ExecuteTime": {
     "end_time": "2019-09-12T03:45:46.250378Z",
     "start_time": "2019-09-12T03:45:46.245369Z"
    }
   },
   "outputs": [],
   "source": [
    "df_kmeans = df.copy()\n",
    "df_kmeans['cluster'] = pd.Series(predict, index=df.index)"
   ]
  },
  {
   "cell_type": "code",
   "execution_count": 66,
   "metadata": {
    "ExecuteTime": {
     "end_time": "2019-09-12T03:45:46.330953Z",
     "start_time": "2019-09-12T03:45:46.324537Z"
    }
   },
   "outputs": [
    {
     "data": {
      "text/html": [
       "<div>\n",
       "<style scoped>\n",
       "    .dataframe tbody tr th:only-of-type {\n",
       "        vertical-align: middle;\n",
       "    }\n",
       "\n",
       "    .dataframe tbody tr th {\n",
       "        vertical-align: top;\n",
       "    }\n",
       "\n",
       "    .dataframe thead th {\n",
       "        text-align: right;\n",
       "    }\n",
       "</style>\n",
       "<table border=\"1\" class=\"dataframe\">\n",
       "  <thead>\n",
       "    <tr style=\"text-align: right;\">\n",
       "      <th></th>\n",
       "      <th>recipeName</th>\n",
       "      <th>cuisine</th>\n",
       "      <th>nlp_ingredients</th>\n",
       "      <th>cluster</th>\n",
       "    </tr>\n",
       "  </thead>\n",
       "  <tbody>\n",
       "    <tr>\n",
       "      <th>0</th>\n",
       "      <td>Easy Seafood Paella</td>\n",
       "      <td>spanish</td>\n",
       "      <td>lobster_tail water olive_oil onion spanish_ric...</td>\n",
       "      <td>4</td>\n",
       "    </tr>\n",
       "    <tr>\n",
       "      <th>1</th>\n",
       "      <td>Spanish-style Garlic Shrimp</td>\n",
       "      <td>spanish</td>\n",
       "      <td>i_cant_believe_its_not_butter_spread shrimp sa...</td>\n",
       "      <td>4</td>\n",
       "    </tr>\n",
       "    <tr>\n",
       "      <th>2</th>\n",
       "      <td>Classic Paella</td>\n",
       "      <td>spanish</td>\n",
       "      <td>olive_oil chicken_breast chicken_stock saffron...</td>\n",
       "      <td>4</td>\n",
       "    </tr>\n",
       "    <tr>\n",
       "      <th>3</th>\n",
       "      <td>One Pot Spanish Chicken and Rice</td>\n",
       "      <td>spanish</td>\n",
       "      <td>olive_oil chicken_thighs salt pepper onion gar...</td>\n",
       "      <td>4</td>\n",
       "    </tr>\n",
       "    <tr>\n",
       "      <th>4</th>\n",
       "      <td>Portuguese Fish Stew</td>\n",
       "      <td>spanish</td>\n",
       "      <td>plum_tomatoe savoy_cabbage olive_oil chizo_sau...</td>\n",
       "      <td>4</td>\n",
       "    </tr>\n",
       "  </tbody>\n",
       "</table>\n",
       "</div>"
      ],
      "text/plain": [
       "                         recipeName  cuisine  \\\n",
       "0               Easy Seafood Paella  spanish   \n",
       "1       Spanish-style Garlic Shrimp  spanish   \n",
       "2                    Classic Paella  spanish   \n",
       "3  One Pot Spanish Chicken and Rice  spanish   \n",
       "4              Portuguese Fish Stew  spanish   \n",
       "\n",
       "                                     nlp_ingredients  cluster  \n",
       "0  lobster_tail water olive_oil onion spanish_ric...        4  \n",
       "1  i_cant_believe_its_not_butter_spread shrimp sa...        4  \n",
       "2  olive_oil chicken_breast chicken_stock saffron...        4  \n",
       "3  olive_oil chicken_thighs salt pepper onion gar...        4  \n",
       "4  plum_tomatoe savoy_cabbage olive_oil chizo_sau...        4  "
      ]
     },
     "execution_count": 66,
     "metadata": {},
     "output_type": "execute_result"
    }
   ],
   "source": [
    "df_kmeans.head()"
   ]
  },
  {
   "cell_type": "code",
   "execution_count": 67,
   "metadata": {
    "ExecuteTime": {
     "end_time": "2019-09-12T03:45:46.414877Z",
     "start_time": "2019-09-12T03:45:46.411094Z"
    },
    "scrolled": true
   },
   "outputs": [],
   "source": [
    "df_cluster_dist = pd.DataFrame(df_kmeans['cluster'].value_counts()) #convert to dataframe"
   ]
  },
  {
   "cell_type": "code",
   "execution_count": 68,
   "metadata": {
    "ExecuteTime": {
     "end_time": "2019-09-12T03:45:46.605915Z",
     "start_time": "2019-09-12T03:45:46.491026Z"
    },
    "scrolled": true
   },
   "outputs": [
    {
     "data": {
      "text/plain": [
       "<matplotlib.axes._subplots.AxesSubplot at 0x1a25da7828>"
      ]
     },
     "execution_count": 68,
     "metadata": {},
     "output_type": "execute_result"
    },
    {
     "data": {
      "image/png": "[encoded data removed]",
      "text/plain": [
       "<Figure size 432x288 with 1 Axes>"
      ]
     },
     "metadata": {
      "needs_background": "light"
     },
     "output_type": "display_data"
    }
   ],
   "source": [
    "sns.barplot(x= df_cluster_dist.index, y= 'cluster', data=df_cluster_dist) #making sure we have good represntation across clusters"
   ]
  },
  {
   "cell_type": "code",
   "execution_count": 69,
   "metadata": {
    "ExecuteTime": {
     "end_time": "2019-09-12T03:45:46.690534Z",
     "start_time": "2019-09-12T03:45:46.681843Z"
    },
    "scrolled": true
   },
   "outputs": [
    {
     "data": {
      "text/html": [
       "<div>\n",
       "<style scoped>\n",
       "    .dataframe tbody tr th:only-of-type {\n",
       "        vertical-align: middle;\n",
       "    }\n",
       "\n",
       "    .dataframe tbody tr th {\n",
       "        vertical-align: top;\n",
       "    }\n",
       "\n",
       "    .dataframe thead th {\n",
       "        text-align: right;\n",
       "    }\n",
       "</style>\n",
       "<table border=\"1\" class=\"dataframe\">\n",
       "  <thead>\n",
       "    <tr style=\"text-align: right;\">\n",
       "      <th></th>\n",
       "      <th>cuisine</th>\n",
       "    </tr>\n",
       "  </thead>\n",
       "  <tbody>\n",
       "    <tr>\n",
       "      <th>german</th>\n",
       "      <td>710</td>\n",
       "    </tr>\n",
       "    <tr>\n",
       "      <th>irish</th>\n",
       "      <td>577</td>\n",
       "    </tr>\n",
       "    <tr>\n",
       "      <th>english</th>\n",
       "      <td>493</td>\n",
       "    </tr>\n",
       "    <tr>\n",
       "      <th>french</th>\n",
       "      <td>447</td>\n",
       "    </tr>\n",
       "    <tr>\n",
       "      <th>swedish</th>\n",
       "      <td>440</td>\n",
       "    </tr>\n",
       "    <tr>\n",
       "      <th>hungarian</th>\n",
       "      <td>402</td>\n",
       "    </tr>\n",
       "    <tr>\n",
       "      <th>american</th>\n",
       "      <td>280</td>\n",
       "    </tr>\n",
       "    <tr>\n",
       "      <th>italian</th>\n",
       "      <td>62</td>\n",
       "    </tr>\n",
       "    <tr>\n",
       "      <th>portuguese</th>\n",
       "      <td>53</td>\n",
       "    </tr>\n",
       "    <tr>\n",
       "      <th>hawaiian</th>\n",
       "      <td>48</td>\n",
       "    </tr>\n",
       "    <tr>\n",
       "      <th>spanish</th>\n",
       "      <td>37</td>\n",
       "    </tr>\n",
       "    <tr>\n",
       "      <th>cuban</th>\n",
       "      <td>36</td>\n",
       "    </tr>\n",
       "    <tr>\n",
       "      <th>japanese</th>\n",
       "      <td>35</td>\n",
       "    </tr>\n",
       "    <tr>\n",
       "      <th>mexican</th>\n",
       "      <td>35</td>\n",
       "    </tr>\n",
       "    <tr>\n",
       "      <th>moroccan</th>\n",
       "      <td>20</td>\n",
       "    </tr>\n",
       "    <tr>\n",
       "      <th>greek</th>\n",
       "      <td>19</td>\n",
       "    </tr>\n",
       "    <tr>\n",
       "      <th>indian</th>\n",
       "      <td>14</td>\n",
       "    </tr>\n",
       "    <tr>\n",
       "      <th>chinese</th>\n",
       "      <td>8</td>\n",
       "    </tr>\n",
       "    <tr>\n",
       "      <th>thai</th>\n",
       "      <td>3</td>\n",
       "    </tr>\n",
       "  </tbody>\n",
       "</table>\n",
       "</div>"
      ],
      "text/plain": [
       "            cuisine\n",
       "german          710\n",
       "irish           577\n",
       "english         493\n",
       "french          447\n",
       "swedish         440\n",
       "hungarian       402\n",
       "american        280\n",
       "italian          62\n",
       "portuguese       53\n",
       "hawaiian         48\n",
       "spanish          37\n",
       "cuban            36\n",
       "japanese         35\n",
       "mexican          35\n",
       "moroccan         20\n",
       "greek            19\n",
       "indian           14\n",
       "chinese           8\n",
       "thai              3"
      ]
     },
     "execution_count": 69,
     "metadata": {},
     "output_type": "execute_result"
    }
   ],
   "source": [
    "df_cluster_0 = df_kmeans[df_kmeans['cluster'] == 0]['cuisine'].value_counts() #checking out distribution of cuisines per cluster\n",
    "\n",
    "df_cluster_0 = pd.DataFrame(df_cluster_0)\n",
    "\n",
    "df_cluster_0"
   ]
  },
  {
   "cell_type": "code",
   "execution_count": 70,
   "metadata": {
    "ExecuteTime": {
     "end_time": "2019-09-12T03:45:47.036770Z",
     "start_time": "2019-09-12T03:45:46.770945Z"
    }
   },
   "outputs": [
    {
     "data": {
      "text/plain": [
       "<matplotlib.axes._subplots.AxesSubplot at 0x1a25da7c88>"
      ]
     },
     "execution_count": 70,
     "metadata": {},
     "output_type": "execute_result"
    },
    {
     "data": {
      "image/png": "[encoded data removed]",
      "text/plain": [
       "<Figure size 1440x720 with 1 Axes>"
      ]
     },
     "metadata": {
      "needs_background": "light"
     },
     "output_type": "display_data"
    }
   ],
   "source": [
    "plt.figure(figsize = (20,10))\n",
    "sns.barplot(x = df_cluster_0.index,y= df_cluster_0['cuisine'],data = df_cluster_0)"
   ]
  },
  {
   "cell_type": "raw",
   "metadata": {},
   "source": []
  },
  {
   "cell_type": "markdown",
   "metadata": {},
   "source": [
    "# 4. PCA"
   ]
  },
  {
   "cell_type": "code",
   "execution_count": 71,
   "metadata": {
    "ExecuteTime": {
     "end_time": "2019-09-12T03:45:52.609782Z",
     "start_time": "2019-09-12T03:45:47.113386Z"
    }
   },
   "outputs": [],
   "source": [
    "#visualize\n",
    "\n",
    "pca_visualize  = KernelPCA(n_components=2, kernel='cosine', n_jobs=-1,random_state=1).fit_transform(data_vectorized)\n"
   ]
  },
  {
   "cell_type": "code",
   "execution_count": 72,
   "metadata": {
    "ExecuteTime": {
     "end_time": "2019-09-12T03:45:52.691841Z",
     "start_time": "2019-09-12T03:45:52.688428Z"
    }
   },
   "outputs": [
    {
     "data": {
      "text/plain": [
       "array([[-0.04312081,  0.07955492],\n",
       "       [ 0.02877495,  0.08018089],\n",
       "       [-0.04133871,  0.15648956],\n",
       "       ...,\n",
       "       [ 0.17235269,  0.11099751],\n",
       "       [ 0.27659202, -0.06307118],\n",
       "       [ 0.20351153,  0.01132191]])"
      ]
     },
     "execution_count": 72,
     "metadata": {},
     "output_type": "execute_result"
    }
   ],
   "source": [
    "pca_visualize #pca components\n",
    "\n"
   ]
  },
  {
   "cell_type": "code",
   "execution_count": 73,
   "metadata": {
    "ExecuteTime": {
     "end_time": "2019-09-12T03:45:52.765240Z",
     "start_time": "2019-09-12T03:45:52.762160Z"
    }
   },
   "outputs": [],
   "source": [
    "principalDf = pd.DataFrame(data = pca_visualize\n",
    "             , columns = ['principal component 1', 'principal component 2'])"
   ]
  },
  {
   "cell_type": "code",
   "execution_count": 74,
   "metadata": {
    "ExecuteTime": {
     "end_time": "2019-09-12T03:45:52.845983Z",
     "start_time": "2019-09-12T03:45:52.837228Z"
    },
    "scrolled": true
   },
   "outputs": [
    {
     "data": {
      "text/html": [
       "<div>\n",
       "<style scoped>\n",
       "    .dataframe tbody tr th:only-of-type {\n",
       "        vertical-align: middle;\n",
       "    }\n",
       "\n",
       "    .dataframe tbody tr th {\n",
       "        vertical-align: top;\n",
       "    }\n",
       "\n",
       "    .dataframe thead th {\n",
       "        text-align: right;\n",
       "    }\n",
       "</style>\n",
       "<table border=\"1\" class=\"dataframe\">\n",
       "  <thead>\n",
       "    <tr style=\"text-align: right;\">\n",
       "      <th></th>\n",
       "      <th>principal component 1</th>\n",
       "      <th>principal component 2</th>\n",
       "      <th>cuisine</th>\n",
       "    </tr>\n",
       "  </thead>\n",
       "  <tbody>\n",
       "    <tr>\n",
       "      <th>0</th>\n",
       "      <td>-0.043121</td>\n",
       "      <td>0.079555</td>\n",
       "      <td>spanish</td>\n",
       "    </tr>\n",
       "    <tr>\n",
       "      <th>1</th>\n",
       "      <td>0.028775</td>\n",
       "      <td>0.080181</td>\n",
       "      <td>spanish</td>\n",
       "    </tr>\n",
       "    <tr>\n",
       "      <th>2</th>\n",
       "      <td>-0.041339</td>\n",
       "      <td>0.156490</td>\n",
       "      <td>spanish</td>\n",
       "    </tr>\n",
       "    <tr>\n",
       "      <th>3</th>\n",
       "      <td>-0.050880</td>\n",
       "      <td>0.137522</td>\n",
       "      <td>spanish</td>\n",
       "    </tr>\n",
       "    <tr>\n",
       "      <th>4</th>\n",
       "      <td>-0.023570</td>\n",
       "      <td>0.028961</td>\n",
       "      <td>spanish</td>\n",
       "    </tr>\n",
       "  </tbody>\n",
       "</table>\n",
       "</div>"
      ],
      "text/plain": [
       "   principal component 1  principal component 2  cuisine\n",
       "0              -0.043121               0.079555  spanish\n",
       "1               0.028775               0.080181  spanish\n",
       "2              -0.041339               0.156490  spanish\n",
       "3              -0.050880               0.137522  spanish\n",
       "4              -0.023570               0.028961  spanish"
      ]
     },
     "execution_count": 74,
     "metadata": {},
     "output_type": "execute_result"
    }
   ],
   "source": [
    "df_pca_analysis = pd.concat([principalDf, df[['cuisine']]], axis=1)\n",
    "df_pca_analysis.head()"
   ]
  },
  {
   "cell_type": "code",
   "execution_count": 75,
   "metadata": {
    "ExecuteTime": {
     "end_time": "2019-09-12T03:45:52.924418Z",
     "start_time": "2019-09-12T03:45:52.922543Z"
    }
   },
   "outputs": [],
   "source": [
    "#df_pca_analysis.to_csv('tableau_pca_ingredients.csv') #send to tableau for more vizualizations"
   ]
  },
  {
   "cell_type": "code",
   "execution_count": 76,
   "metadata": {
    "ExecuteTime": {
     "end_time": "2019-09-12T03:45:53.587579Z",
     "start_time": "2019-09-12T03:45:52.998695Z"
    }
   },
   "outputs": [
    {
     "data": {
      "text/plain": [
       "<seaborn.axisgrid.FacetGrid at 0x1a27364898>"
      ]
     },
     "execution_count": 76,
     "metadata": {},
     "output_type": "execute_result"
    },
    {
     "data": {
      "text/plain": [
       "<Figure size 1440x720 with 0 Axes>"
      ]
     },
     "metadata": {},
     "output_type": "display_data"
    },
    {
     "data": {
      "image/png": "[encoded data removed]",
      "text/plain": [
       "<Figure size 452.875x360 with 1 Axes>"
      ]
     },
     "metadata": {
      "needs_background": "light"
     },
     "output_type": "display_data"
    }
   ],
   "source": [
    "#PCA Analysis on Ingredients\n",
    "plt.figure(figsize = (20,10))\n",
    "#sns.set(style=\"whitegrid\", palette=\"muted\")\n",
    "sns.lmplot(\"principal component 1\", \"principal component 2\", data=df_pca_analysis, hue = 'cuisine', fit_reg=False)"
   ]
  }
 ],
 "metadata": {
  "kernelspec": {
   "display_name": "Python 3",
   "language": "python",
   "name": "python3"
  },
  "language_info": {
   "codemirror_mode": {
    "name": "ipython",
    "version": 3
   },
   "file_extension": ".py",
   "mimetype": "text/x-python",
   "name": "python",
   "nbconvert_exporter": "python",
   "pygments_lexer": "ipython3",
   "version": "3.7.3"
  },
  "varInspector": {
   "cols": {
    "lenName": 16,
    "lenType": 16,
    "lenVar": 40
   },
   "kernels_config": {
    "python": {
     "delete_cmd_postfix": "",
     "delete_cmd_prefix": "del ",
     "library": "var_list.py",
     "varRefreshCmd": "print(var_dic_list())"
    },
    "r": {
     "delete_cmd_postfix": ") ",
     "delete_cmd_prefix": "rm(",
     "library": "var_list.r",
     "varRefreshCmd": "cat(var_dic_list()) "
    }
   },
   "types_to_exclude": [
    "module",
    "function",
    "builtin_function_or_method",
    "instance",
    "_Feature"
   ],
   "window_display": false
  }
 },
 "nbformat": 4,
 "nbformat_minor": 2
}
